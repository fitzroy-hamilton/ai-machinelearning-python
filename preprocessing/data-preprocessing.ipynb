{
 "cells": [
  {
   "cell_type": "markdown",
   "metadata": {},
   "source": [
    "# Data preprocessing"
   ]
  },
  {
   "cell_type": "markdown",
   "metadata": {},
   "source": [
    "## Importer les dépendances"
   ]
  },
  {
   "cell_type": "code",
   "execution_count": 28,
   "metadata": {
    "collapsed": true
   },
   "outputs": [],
   "source": [
    "import pandas as pd\n",
    "import numpy as np"
   ]
  },
  {
   "cell_type": "markdown",
   "metadata": {},
   "source": [
    "## Importer le dataset"
   ]
  },
  {
   "cell_type": "code",
   "execution_count": 29,
   "metadata": {},
   "outputs": [],
   "source": [
    "dataset = pd.read_csv('data/Data.csv')\n",
    "#print(dataset.head())"
   ]
  },
  {
   "cell_type": "markdown",
   "metadata": {},
   "source": [
    "iloc prend deux parametres : nombre de lignes et nombre de colonnes \":\" signifie que l'on prend toutes les lignes ou colonnes du dataset en faisant \":-1\" on part du principe que la derniere colonne contient la colonne de variables dependantes que l'on mettra dans le vecteur y"
   ]
  },
  {
   "cell_type": "code",
   "execution_count": 30,
   "metadata": {
    "collapsed": true
   },
   "outputs": [],
   "source": [
    "X = dataset.iloc[:, :-1].values\n",
    "y = dataset.iloc[:, -1].values # on recupere juste la derniere colonne"
   ]
  },
  {
   "cell_type": "markdown",
   "metadata": {},
   "source": [
    "## Gérer les données manquantes\n",
    "Pour cela, on utilise la class Imputer du module preprocessing"
   ]
  },
  {
   "cell_type": "code",
   "execution_count": 31,
   "metadata": {},
   "outputs": [],
   "source": [
    "from sklearn.preprocessing import Imputer\n",
    "imputer = Imputer(missing_values = 'NaN', strategy = 'mean', axis = 0)"
   ]
  },
  {
   "cell_type": "markdown",
   "metadata": {},
   "source": [
    "On lie l'imputer a notre variable en precisant les lignes puis colonnes que l'on souhaite. Pour rappel, dans un range, la borne superieure est toujours exclue en python donc 1:3 correspond aux colonnes dont l'indice est 1 et 2"
   ]
  },
  {
   "cell_type": "code",
   "execution_count": 32,
   "metadata": {},
   "outputs": [
    {
     "name": "stdout",
     "output_type": "stream",
     "text": [
      "Independent dataset X:\n",
      "[['France' 44.0 72000.0]\n",
      " ['Spain' 27.0 48000.0]\n",
      " ['Germany' 30.0 54000.0]\n",
      " ['Spain' 38.0 61000.0]\n",
      " ['Germany' 40.0 63777.77777777778]\n",
      " ['France' 35.0 58000.0]\n",
      " ['Spain' 38.77777777777778 52000.0]\n",
      " ['France' 48.0 79000.0]\n",
      " ['Germany' 50.0 83000.0]\n",
      " ['France' 37.0 67000.0]]\n",
      "\n"
     ]
    }
   ],
   "source": [
    "imputer.fit(X[:, 1:3])\n",
    "# on transforme la variable conformement a la strategie definie \n",
    "X[:, 1:3] = imputer.transform(X[:, 1:3])\n",
    "print(\"Independent dataset X:\")\n",
    "print(X)\n",
    "print(\"\")"
   ]
  },
  {
   "cell_type": "markdown",
   "metadata": {},
   "source": [
    "## Gérer les variables catégoriques (ie non numériques continues)\n",
    "\n",
    "Ici dans notre dataset, les pays (3 categories) et purchase (2 categories). Le but est d'encoder les variables catégoriques (en texte par exemple) en variable numerique. \n",
    "\n",
    "Variable nominale (= non ordonnee) vs. ordinale (= ordonnee).\n",
    "\n",
    "La class LabelEncoder permet de transformer du texte en valeur numérique (1, 2, 3, ...) et la class OneHotEncoder permet de spliter en plusieurs colonnes une colonne contenant des valeurs numeriques (= pas de texte)"
   ]
  },
  {
   "cell_type": "code",
   "execution_count": 33,
   "metadata": {},
   "outputs": [],
   "source": [
    "from sklearn.preprocessing import LabelEncoder, OneHotEncoder\n",
    "labelencoder_X = LabelEncoder() # pour la variable country\n",
    "# fit_transform fait d'abord fit puis transform (en evitant des calculs en double)\n",
    "X[:, 0] = labelencoder_X.fit_transform(X[:, 0]) # country est la 1ere colonne"
   ]
  },
  {
   "cell_type": "markdown",
   "metadata": {},
   "source": [
    "Méthode d'encodage pour une variable catégorique nominale = encode par dummy-variable (obligatoire pour les variables independantes = entrees).\n",
    "\n",
    "L'encodage par dummy-variable consiste a decouper en N colonnes une variable categorique à N categories (ie. valeurs distinctes) puis de mettre 1 ou 0 dans chacune de ces colonnes (par exemple la valeur France de la colonne country est remplacée par un 1 dans la colonne France et 0 dans les colonnes Germany et Spain). Si on avait simplement remplacé les pays par un chiffre (0 pour la France, 1 pour Germany et 2 pour Spain), on aurait recréé une relation d'ordre entre les pays puisque 1 < 2 etc."
   ]
  },
  {
   "cell_type": "code",
   "execution_count": 34,
   "metadata": {},
   "outputs": [
    {
     "name": "stdout",
     "output_type": "stream",
     "text": [
      "Independent dataset X apres gestion des variables categoriques:\n",
      "[[     1.              0.              0.             44.          72000.        ]\n",
      " [     0.              0.              1.             27.          48000.        ]\n",
      " [     0.              1.              0.             30.          54000.        ]\n",
      " [     0.              0.              1.             38.          61000.        ]\n",
      " [     0.              1.              0.             40.          63777.77777778]\n",
      " [     1.              0.              0.             35.          58000.        ]\n",
      " [     0.              0.              1.             38.77777778  52000.        ]\n",
      " [     1.              0.              0.             48.          79000.        ]\n",
      " [     0.              1.              0.             50.          83000.        ]\n",
      " [     1.              0.              0.             37.          67000.        ]]\n",
      "\n"
     ]
    }
   ],
   "source": [
    "onehotencoder = OneHotEncoder(categorical_features = [0], dtype=int) # categorical_features correspond aux indices des colonnes a transformer\n",
    "np.set_printoptions(suppress=True)\n",
    "X = onehotencoder.fit_transform(X).toarray()\n",
    "print(\"Independent dataset X apres gestion des variables categoriques:\")\n",
    "print(X)\n",
    "print(\"\")"
   ]
  },
  {
   "cell_type": "markdown",
   "metadata": {},
   "source": [
    "## Transformation de la variable 'purchase' textuelle en valeurs numériques"
   ]
  },
  {
   "cell_type": "code",
   "execution_count": 35,
   "metadata": {
    "collapsed": true
   },
   "outputs": [],
   "source": [
    "labelencoder_y = LabelEncoder() \n",
    "y = labelencoder_y.fit_transform(y)"
   ]
  },
  {
   "cell_type": "markdown",
   "metadata": {},
   "source": [
    "## Diviser le dataset entre le Training set et le Test set\n",
    "\n",
    "Le training set est la base d'apprentissage pour découvrir les corrélations entre les variables independantes (entrees) et les variables dependantes (sorties) afin d'eviter le sur-apprentissage (apprentissage par coeur), on  conserve une partie des donnees pour tester le modele d'apprentissage avec les valeurs attendues.\n",
    "\n",
    "Les observations du test set n'auront pas contribué à l'apprentissage et on dimensionne a 20% des observations totales, le nombre d'observations à mettre de coté pour le test set.\n",
    "\n",
    "Si la precision (taux d'erreur) du test set est significativement plus élevée que le train set, cela signifie qu'il y a eu sur-apprentissage."
   ]
  },
  {
   "cell_type": "code",
   "execution_count": 36,
   "metadata": {
    "collapsed": true
   },
   "outputs": [],
   "source": [
    "from sklearn.model_selection import train_test_split\n",
    "# on renseigne le random_state pour est sur d'avoir les mêmes resultats a \n",
    "# chaque execution : utile uniquement dans un but pedagogique ou de debugging\n",
    "X_train, X_test, y_train, y_test = train_test_split(X, y, test_size = 0.2, random_state = 0)"
   ]
  },
  {
   "cell_type": "markdown",
   "metadata": {},
   "source": [
    "## Feature scaling\n",
    "\n",
    "On met à la même echelle toutes les variables pour éviter qu'une variable d'entrée n'écrase toutes les autres (par exemple, dans notre dataset la colonne Age n'a pas du tout la même échelle que la colonne Salaire).\n",
    "\n",
    "On utilise ici la méthode de standardisation (qui consiste à soustraire aux valeurs de x la moyenne des valeurs de x le tout divisé par l'écart-type de x).\n",
    "\n",
    "Une autre methode est la methode de normalisation (qui consiste à soustraire aux valeurs de x la valeur minimum de x le tout divisé par la soustraction de la valeur maximum de x par la valeur minimum de x)."
   ]
  },
  {
   "cell_type": "code",
   "execution_count": 37,
   "metadata": {
    "collapsed": true
   },
   "outputs": [],
   "source": [
    "from sklearn.preprocessing import StandardScaler\n",
    "sc = StandardScaler()\n",
    "#print(X_train)\n",
    "X_train = sc.fit_transform(X_train)"
   ]
  },
  {
   "cell_type": "markdown",
   "metadata": {},
   "source": [
    "Grâce la fonction train_test_split, le training set et le test set ont une moyenne et un écart-type similaire et une distribution similaire des valeurs.\n",
    "\n",
    "On n'a donc pas besoin de fitter sc à X_test puisqu'il est déjà fitté à X_train."
   ]
  },
  {
   "cell_type": "code",
   "execution_count": 38,
   "metadata": {
    "collapsed": true
   },
   "outputs": [],
   "source": [
    "X_test = sc.transform(X_test)\n",
    "#print(X_train)"
   ]
  },
  {
   "cell_type": "markdown",
   "metadata": {},
   "source": [
    "On n'applique par le feature scaling sur y (sorties) puisque dans ce dataset, les valeurs ont déjà été encodées (avec LabelEncoder) en 0 ou 1 ce qui est dans une echelle similaire aux variables de X (entrees).\n",
    "\n",
    "En fonction du dataset, il peut être nécessaire d'appliquer le feature scaling aux sorties (typiquement si y est un vecteur de valeurs numériques avec une échelle très différentes des valeurs de X)"
   ]
  }
 ],
 "metadata": {
  "kernelspec": {
   "display_name": "Python 3",
   "language": "python",
   "name": "python3"
  },
  "language_info": {
   "codemirror_mode": {
    "name": "ipython",
    "version": 3
   },
   "file_extension": ".py",
   "mimetype": "text/x-python",
   "name": "python",
   "nbconvert_exporter": "python",
   "pygments_lexer": "ipython3",
   "version": "3.8.0"
  }
 },
 "nbformat": 4,
 "nbformat_minor": 2
}
