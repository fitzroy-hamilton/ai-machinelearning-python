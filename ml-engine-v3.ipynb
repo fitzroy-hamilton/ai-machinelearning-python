{
 "cells": [
  {
   "cell_type": "markdown",
   "metadata": {},
   "source": [
    "# Machine Learning Engine"
   ]
  },
  {
   "cell_type": "markdown",
   "metadata": {},
   "source": [
    "## Prerequisites - Install the SciKit-Learn dev environment\n",
    "If necessary, [a link for the installation on MacOS X](https://scikit-learn.org/stable/developers/advanced_installation.html)\n",
    "\n",
    "Environment file to import in Anaconda-Navigator:"
   ]
  },
  {
   "cell_type": "markdown",
   "metadata": {},
   "source": [
    "```\n",
    "name: sklearn-dev\n",
    "channels:\n",
    "  - conda-forge\n",
    "  - defaults\n",
    "  - anaconda-fusion\n",
    "dependencies:\n",
    "  - appnope=0.1.0=py38_1000\n",
    "  - attrs=19.3.0=py_0\n",
    "  - backcall=0.1.0=py_0\n",
    "  - binutils-meta=1.0.4=0\n",
    "  - bleach=3.1.0=py_0\n",
    "  - c-compiler=1.0.4=h1239861_0\n",
    "  - ca-certificates=2019.11.28=hecc5488_0\n",
    "  - cctools=927.0.2=h5ba7a2e_2\n",
    "  - certifi=2019.11.28=py38_0\n",
    "  - clang=9.0.0=default_hf57f61e_4\n",
    "  - clang_osx-64=9.0.0=h05bbb7f_6\n",
    "  - clangxx=9.0.0=default_hf57f61e_4\n",
    "  - clangxx_osx-64=9.0.0=h05bbb7f_6\n",
    "  - compiler-rt=9.0.0=ha700673_2\n",
    "  - compiler-rt_osx-64=9.0.0=ha700673_2\n",
    "  - compilers=1.0.4=0\n",
    "  - cxx-compiler=1.0.4=h707564b_0\n",
    "  - cycler=0.10.0=py_2\n",
    "  - cython=0.29.14=py38h4a8c4bd_0\n",
    "  - decorator=4.4.1=py_0\n",
    "  - defusedxml=0.6.0=py_0\n",
    "  - entrypoints=0.3=py38_1000\n",
    "  - fortran-compiler=1.0.4=he991be0_0\n",
    "  - freetype=2.10.0=h24853df_1\n",
    "  - gfortran_impl_osx-64=7.3.0=hf4212f2_2\n",
    "  - gfortran_osx-64=7.3.0=h22b1bf0_6\n",
    "  - gmp=6.1.2=h0a44026_1000\n",
    "  - importlib_metadata=1.3.0=py38_0\n",
    "  - ipykernel=5.1.3=py38h5ca1d4c_0\n",
    "  - ipython=7.10.2=py38h5ca1d4c_0\n",
    "  - ipython_genutils=0.2.0=py_1\n",
    "  - isl=0.19=0\n",
    "  - jedi=0.15.1=py38_0\n",
    "  - jinja2=2.10.3=py_0\n",
    "  - joblib=0.14.1=py_0\n",
    "  - jsonschema=3.2.0=py38_0\n",
    "  - jupyter_client=5.3.3=py38_1\n",
    "  - jupyter_core=4.6.1=py38_0\n",
    "  - kiwisolver=1.1.0=py38ha1b3eb9_0\n",
    "  - ld64=450.3=h3c32e8a_2\n",
    "  - libblas=3.8.0=14_openblas\n",
    "  - libcblas=3.8.0=14_openblas\n",
    "  - libcxx=9.0.0=h89e68fa_1\n",
    "  - libffi=3.2.1=h6de7cb9_1006\n",
    "  - libgfortran=4.0.0=2\n",
    "  - libiconv=1.15=h01d97ff_1005\n",
    "  - liblapack=3.8.0=14_openblas\n",
    "  - libllvm9=9.0.0=h770b8ee_3\n",
    "  - libopenblas=0.3.7=h3d69b6c_5\n",
    "  - libpng=1.6.37=h2573ce8_0\n",
    "  - libsodium=1.0.17=h01d97ff_0\n",
    "  - llvm-openmp=9.0.0=h40edb58_0\n",
    "  - markupsafe=1.1.1=py38h0b31af3_0\n",
    "  - matplotlib=3.1.2=py38_1\n",
    "  - matplotlib-base=3.1.2=py38h11da6c2_1\n",
    "  - mistune=0.8.4=py38h0b31af3_1000\n",
    "  - more-itertools=8.0.2=py_0\n",
    "  - mpc=1.1.0=h4160ff4_1006\n",
    "  - mpfr=4.0.2=h44b798e_0\n",
    "  - nbconvert=5.6.1=py38_0\n",
    "  - nbformat=4.4.0=py_1\n",
    "  - ncurses=6.1=h0a44026_1002\n",
    "  - notebook=6.0.1=py38_0\n",
    "  - numpy=1.17.3=py38hde6bac1_0\n",
    "  - openssl=1.1.1d=h0b31af3_0\n",
    "  - packaging=19.2=py_0\n",
    "  - pandas=0.25.3=py38h4f17bb1_0\n",
    "  - pandoc=2.9=0\n",
    "  - pandocfilters=1.4.2=py_1\n",
    "  - parso=0.5.2=py_0\n",
    "  - patsy=0.5.1=py_0\n",
    "  - pexpect=4.7.0=py38_0\n",
    "  - pickleshare=0.7.5=py38_1000\n",
    "  - pip=19.3.1=py38_0\n",
    "  - pluggy=0.13.1=py38_0\n",
    "  - prometheus_client=0.7.1=py_0\n",
    "  - prompt_toolkit=3.0.2=py_0\n",
    "  - ptyprocess=0.6.0=py_1001\n",
    "  - py=1.8.0=py_0\n",
    "  - pygments=2.5.2=py_0\n",
    "  - pyparsing=2.4.5=py_0\n",
    "  - pyrsistent=0.15.6=py38h0b31af3_0\n",
    "  - pytest=5.3.2=py38_0\n",
    "  - python=3.8.0=hd366da7_5\n",
    "  - python-dateutil=2.8.1=py_0\n",
    "  - pytz=2019.3=py_0\n",
    "  - pyzmq=18.1.1=py38h4bf09a9_0\n",
    "  - readline=8.0=hcfe32e1_0\n",
    "  - scikit-learn=0.22=py38h3dc85bc_1\n",
    "  - scipy=1.3.3=py38h82752d6_0\n",
    "  - seaborn=0.9.0=py_2\n",
    "  - send2trash=1.5.0=py_0\n",
    "  - setuptools=42.0.2=py38_0\n",
    "  - six=1.13.0=py38_0\n",
    "  - sqlite=3.30.1=h93121df_0\n",
    "  - statsmodels=0.10.2=py38h3b54f70_0\n",
    "  - tapi=1000.10.8=ha1b3eb9_4\n",
    "  - terminado=0.8.3=py38_0\n",
    "  - testpath=0.4.4=py_0\n",
    "  - tk=8.6.10=hbbe82c9_0\n",
    "  - tornado=6.0.3=py38h0b31af3_0\n",
    "  - traitlets=4.3.3=py38_0\n",
    "  - wcwidth=0.1.7=py_1\n",
    "  - webencodings=0.5.1=py_1\n",
    "  - wheel=0.33.6=py38_0\n",
    "  - xz=5.2.4=h1de35cc_1001\n",
    "  - zeromq=4.3.2=h6de7cb9_2\n",
    "  - zipp=0.6.0=py_0\n",
    "  - zlib=1.2.11=h0b31af3_1006\n",
    "  - et_xmlfile-1.0.1=py_1001\n",
    "  - jdcal-1.4.1=py_0\n",
    "  - openpyxl-3.0.1=py_0\n",
    "prefix: /Users/kama/.conda/envs/sklearn-dev\n",
    "```"
   ]
  },
  {
   "cell_type": "markdown",
   "metadata": {},
   "source": [
    "## 0. Loading dependencies and checking the version of SciKit-Learn"
   ]
  },
  {
   "cell_type": "code",
   "execution_count": 1,
   "metadata": {},
   "outputs": [],
   "source": [
    "from sklearn import __version__\n",
    "import sys, traceback\n",
    "\n",
    "required_version = \"0.22\"\n",
    "try:\n",
    "    if (__version__ < required_version):\n",
    "        raise Exception()\n",
    "except Exception:\n",
    "    print(\"***\")\n",
    "    print(\"*** /!\\\\ scikit-learn >=\", required_version, \"required while\", __version__, \"found\")\n",
    "    print(\"***\")\n",
    "    sys.exit(1)\n",
    "\n",
    "import pandas as pd\n",
    "import numpy as np\n",
    "np.random.seed(42)"
   ]
  },
  {
   "cell_type": "markdown",
   "metadata": {},
   "source": [
    "## 1. Loading and exploring Dataset\n",
    "**X** as features (independent variables) and **y** as target (dependent variable)\n",
    "\n",
    "Data are fetched from [OpenML.org](https://www.openml.org/)"
   ]
  },
  {
   "cell_type": "markdown",
   "metadata": {},
   "source": [
    "### 1.1 Select a dataset in OpenML <span style=\"color:red\">(*to be modified*)</span>"
   ]
  },
  {
   "cell_type": "markdown",
   "metadata": {},
   "source": [
    "Types of machine learning algorithm to use: \n",
    "```\n",
    "classification\n",
    "regression\n",
    "clustering\n",
    "dimensionality-reduction\n",
    "```"
   ]
  },
  {
   "cell_type": "markdown",
   "metadata": {},
   "source": [
    "#### 1.1.1 Classification - Titanic dataset\n",
    "\n",
    "#### Variable description\n",
    "```\n",
    "pclass          Passenger Class\n",
    "                (1 = 1st; 2 = 2nd; 3 = 3rd)\n",
    "survival        Survival\n",
    "                (0 = No; 1 = Yes)\n",
    "name            Name\n",
    "sex             Sex\n",
    "age             Age\n",
    "sibsp           Number of Siblings/Spouses Aboard\n",
    "parch           Number of Parents/Children Aboard\n",
    "ticket          Ticket Number\n",
    "fare            Passenger Fare\n",
    "cabin           Cabin\n",
    "embarked        Port of Embarkation\n",
    "                (C = Cherbourg; Q = Queenstown; S = Southampton)\n",
    "boat            Lifeboat\n",
    "body            Body Identification Number\n",
    "home.dest       Home/Destination\n",
    "```\n",
    "\n",
    "#### Special notes\n",
    "```\n",
    "Pclass is a proxy for socio-economic status (SES)\n",
    " 1st ~ Upper; 2nd ~ Middle; 3rd ~ Lower\n",
    "\n",
    "Age is in Years; Fractional if Age less than One (1)\n",
    " If the Age is Estimated, it is in the form xx.5\n",
    "\n",
    "Fare is in Pre-1970 British Pounds (£)\n",
    " Conversion Factors:  1£ = 12s = 240d and 1s = 20d\n",
    "\n",
    "With respect to the family relation variables (i.e. sibsp and parch)\n",
    "some relations were ignored.  The following are the definitions used\n",
    "for sibsp and parch.\n",
    "\n",
    "sibsp:\n",
    "- Sibling:  Brother, Sister, Stepbrother, or Stepsister of Passenger Aboard Titanic\n",
    "- Spouse:   Husband or Wife of Passenger Aboard Titanic (Mistresses and Fiancées Ignored)\n",
    "\n",
    "parch:\n",
    "- Parent:   Mother or Father of Passenger Aboard Titanic\n",
    "- Child:    Son, Daughter, Stepson, or Stepdaughter of Passenger Aboard Titanic\n",
    "```"
   ]
  },
  {
   "cell_type": "code",
   "execution_count": 2,
   "metadata": {},
   "outputs": [],
   "source": [
    "#openml_source = 'titanic' # https://www.openml.org/d/40945\n",
    "#openml_version = 1\n",
    "#ml_type = \"classification\" \n",
    "\n",
    "#export_excel = False # to put by default\n",
    "#draw_pairplot = False # to put by default\n",
    "#label_encode_y = True\n",
    "#scoring_method = 'f1'\n",
    "#preprocessing_engine = 'generic'\n",
    "\n",
    "#numeric_features = ['age', 'fare']\n",
    "#categorical_features = ['embarked', 'sex', 'pclass']"
   ]
  },
  {
   "cell_type": "markdown",
   "metadata": {},
   "source": [
    "#### 1.1.2 Classification - Diabetes dataset\n",
    "\n",
    "#### Variable description\n",
    "```\n",
    "1. Number of times pregnant\n",
    "2. Plasma glucose concentration a 2 hours in an oral glucose tolerance test\n",
    "3. Diastolic blood pressure (mm Hg)\n",
    "4. Triceps skin fold thickness (mm)\n",
    "5. 2-Hour serum insulin (mu U/ml)\n",
    "6. Body mass index (weight in kg/(height in m)^2)\n",
    "7. Diabetes pedigree function\n",
    "8. Age (years)\n",
    "9. Class variable (0 or 1)\n",
    "\n",
    "Relabeled values in attribute 'class'\n",
    "    From: 0                       To: tested_negative     \n",
    "    From: 1                       To: tested_positive\n",
    "```"
   ]
  },
  {
   "cell_type": "code",
   "execution_count": 3,
   "metadata": {},
   "outputs": [],
   "source": [
    "openml_source = 'diabetes' # https://www.openml.org/d/37\n",
    "openml_version = 1\n",
    "ml_type = \"classification\" \n",
    "\n",
    "export_excel = False # to put by default\n",
    "draw_pairplot = False # to put by default\n",
    "label_encode_y = True\n",
    "scoring_method = 'f1'\n",
    "preprocessing_engine = 'generic'\n",
    "\n",
    "numeric_features = ['preg', 'plas', 'pres', 'skin', 'insu', 'mass', 'pedi', 'age']\n",
    "categorical_features = None"
   ]
  },
  {
   "cell_type": "markdown",
   "metadata": {},
   "source": [
    "#### 1.1.3 Classification - Other datasources to be explored...\n",
    "```\n",
    "Churn : https://www.openml.org/d/40701\n",
    "Software defect prediction : https://www.openml.org/d/1068\n",
    "Breast cancer : https://www.openml.org/d/15\n",
    "Credit approval: https://www.openml.org/d/29\n",
    "Amazon employee access : https://www.openml.org/d/4135\n",
    "Click prediction : https://www.openml.org/d/1220\n",
    "Credit score : https://www.openml.org/d/461\n",
    "Adult salary : https://www.openml.org/d/1590\n",
    "Letter recognition : https://www.openml.org/d/6\n",
    "Spam base : https://www.openml.org/d/44\n",
    "Classification problem : https://www.openml.org/d/1485\n",
    "```\n"
   ]
  },
  {
   "cell_type": "markdown",
   "metadata": {},
   "source": [
    "#### 1.1.4 Regression - Stock dataset\n",
    "\n",
    "#### Variable description\n",
    "```\n",
    "The data provided are daily stock prices from January 1988 through October 1991, for ten aerospace companies.\n",
    "```"
   ]
  },
  {
   "cell_type": "code",
   "execution_count": 4,
   "metadata": {},
   "outputs": [],
   "source": [
    "#openml_source = 'stock' # https://www.openml.org/d/223\n",
    "#openml_version = 1\n",
    "#ml_type = \"regression\" \n",
    "\n",
    "#export_excel = False # to put by default\n",
    "#draw_pairplot = False # to put by default\n",
    "#label_encode_y = False\n",
    "#scoring_method = 'r2'\n",
    "#preprocessing_engine = 'generic'\n",
    "\n",
    "#numeric_features = ['company1', 'company2', 'company3', 'company4', 'company5', 'company6', 'company7', 'company8', 'company9']\n",
    "#categorical_features = None"
   ]
  },
  {
   "cell_type": "markdown",
   "metadata": {},
   "source": [
    "#### 1.1.5 Regression - Strikes dataset\n",
    "\n",
    "#### Variable description\n",
    "```\n",
    "The data consist of annual observations on the level of strike volume (days lost due to industrial disputes per 1000 wage salary earners), and their covariates in 18 OECD countries from 1951-1985. The average level and variance of strike volume varies across countries. The data distribution also features a long right tail and several large outliers. \n",
    "\n",
    "The 7 data fields include the following variables:  \n",
    "(1) country code\n",
    "(2) year\n",
    "(3) unemployment\n",
    "(4) inflation\n",
    "(5) parliamentary representation of social democratic and labor parties  \n",
    "(6) a time-invariant measure of union centralization\n",
    "\n",
    "Target : strike volume\n",
    "```"
   ]
  },
  {
   "cell_type": "code",
   "execution_count": 5,
   "metadata": {},
   "outputs": [],
   "source": [
    "#openml_source = 'strikes' # https://www.openml.org/d/549\n",
    "#openml_version = 1\n",
    "#ml_type = \"regression\""
   ]
  },
  {
   "cell_type": "markdown",
   "metadata": {},
   "source": [
    "#### 1.1.6 Regression - Other datasources to be explored...\n",
    "```\n",
    "no2 : https://www.openml.org/d/547\n",
    "Vote : https://www.openml.org/d/507\n",
    "```"
   ]
  },
  {
   "cell_type": "markdown",
   "metadata": {},
   "source": [
    "#### 1.1.7 Clustering - Credit Card Fraud Detection"
   ]
  },
  {
   "cell_type": "code",
   "execution_count": 6,
   "metadata": {},
   "outputs": [],
   "source": [
    "#openml_source = 'CreditCardFraudDetection' # https://www.openml.org/d/42175\n",
    "#openml_version = 1\n",
    "#ml_type = \"clustering\""
   ]
  },
  {
   "cell_type": "markdown",
   "metadata": {},
   "source": [
    "```\n",
    "The datasets contains transactions made by credit cards in September 2013 by european cardholders. This dataset presents transactions that occurred in two days, where we have 492 frauds out of 284,807 transactions. The dataset is highly unbalanced, the positive class (frauds) account for 0.172% of all transactions.\n",
    "\n",
    "It contains only numerical input variables which are the result of a PCA transformation. \n",
    "\n",
    "Unfortunately, due to confidentiality issues, we cannot provide the original features and more background information about the data. \n",
    "\n",
    "Features V1, V2, ... V28 are the principal components obtained with PCA, the only features which have not been transformed with PCA are 'Time' and 'Amount'. \n",
    "\n",
    "Feature 'Time' contains the seconds elapsed between each transaction and the first transaction in the dataset. \n",
    "\n",
    "The feature 'Amount' is the transaction Amount, this feature can be used for example-dependant cost-senstive learning. \n",
    "\n",
    "Feature 'Class' is the response variable and it takes value 1 in case of fraud and 0 otherwise.\n",
    "```"
   ]
  },
  {
   "cell_type": "markdown",
   "metadata": {},
   "source": [
    "#### 1.1.8 Clustering - Customer churn"
   ]
  },
  {
   "cell_type": "code",
   "execution_count": 7,
   "metadata": {},
   "outputs": [],
   "source": [
    "#openml_source = 'telco-customer-churn' # https://www.openml.org/d/42178\n",
    "#openml_version = 1\n",
    "#ml_type = \"clustering\""
   ]
  },
  {
   "cell_type": "markdown",
   "metadata": {},
   "source": [
    "### 1.2 Importing data"
   ]
  },
  {
   "cell_type": "code",
   "execution_count": 8,
   "metadata": {},
   "outputs": [
    {
     "data": {
      "text/html": [
       "<div>\n",
       "<style scoped>\n",
       "    .dataframe tbody tr th:only-of-type {\n",
       "        vertical-align: middle;\n",
       "    }\n",
       "\n",
       "    .dataframe tbody tr th {\n",
       "        vertical-align: top;\n",
       "    }\n",
       "\n",
       "    .dataframe thead th {\n",
       "        text-align: right;\n",
       "    }\n",
       "</style>\n",
       "<table border=\"1\" class=\"dataframe\">\n",
       "  <thead>\n",
       "    <tr style=\"text-align: right;\">\n",
       "      <th></th>\n",
       "      <th>preg</th>\n",
       "      <th>plas</th>\n",
       "      <th>pres</th>\n",
       "      <th>skin</th>\n",
       "      <th>insu</th>\n",
       "      <th>mass</th>\n",
       "      <th>pedi</th>\n",
       "      <th>age</th>\n",
       "    </tr>\n",
       "  </thead>\n",
       "  <tbody>\n",
       "    <tr>\n",
       "      <th>0</th>\n",
       "      <td>6.0</td>\n",
       "      <td>148.0</td>\n",
       "      <td>72.0</td>\n",
       "      <td>35.0</td>\n",
       "      <td>0.0</td>\n",
       "      <td>33.6</td>\n",
       "      <td>0.627</td>\n",
       "      <td>50.0</td>\n",
       "    </tr>\n",
       "    <tr>\n",
       "      <th>1</th>\n",
       "      <td>1.0</td>\n",
       "      <td>85.0</td>\n",
       "      <td>66.0</td>\n",
       "      <td>29.0</td>\n",
       "      <td>0.0</td>\n",
       "      <td>26.6</td>\n",
       "      <td>0.351</td>\n",
       "      <td>31.0</td>\n",
       "    </tr>\n",
       "    <tr>\n",
       "      <th>2</th>\n",
       "      <td>8.0</td>\n",
       "      <td>183.0</td>\n",
       "      <td>64.0</td>\n",
       "      <td>0.0</td>\n",
       "      <td>0.0</td>\n",
       "      <td>23.3</td>\n",
       "      <td>0.672</td>\n",
       "      <td>32.0</td>\n",
       "    </tr>\n",
       "    <tr>\n",
       "      <th>3</th>\n",
       "      <td>1.0</td>\n",
       "      <td>89.0</td>\n",
       "      <td>66.0</td>\n",
       "      <td>23.0</td>\n",
       "      <td>94.0</td>\n",
       "      <td>28.1</td>\n",
       "      <td>0.167</td>\n",
       "      <td>21.0</td>\n",
       "    </tr>\n",
       "    <tr>\n",
       "      <th>4</th>\n",
       "      <td>0.0</td>\n",
       "      <td>137.0</td>\n",
       "      <td>40.0</td>\n",
       "      <td>35.0</td>\n",
       "      <td>168.0</td>\n",
       "      <td>43.1</td>\n",
       "      <td>2.288</td>\n",
       "      <td>33.0</td>\n",
       "    </tr>\n",
       "  </tbody>\n",
       "</table>\n",
       "</div>"
      ],
      "text/plain": [
       "   preg   plas  pres  skin   insu  mass   pedi   age\n",
       "0   6.0  148.0  72.0  35.0    0.0  33.6  0.627  50.0\n",
       "1   1.0   85.0  66.0  29.0    0.0  26.6  0.351  31.0\n",
       "2   8.0  183.0  64.0   0.0    0.0  23.3  0.672  32.0\n",
       "3   1.0   89.0  66.0  23.0   94.0  28.1  0.167  21.0\n",
       "4   0.0  137.0  40.0  35.0  168.0  43.1  2.288  33.0"
      ]
     },
     "execution_count": 8,
     "metadata": {},
     "output_type": "execute_result"
    }
   ],
   "source": [
    "from sklearn.datasets import fetch_openml\n",
    "\n",
    "X, y = fetch_openml(openml_source, version=openml_version, return_X_y=True, as_frame=True)\n",
    "\n",
    "# 'fetch_openml' can return directly 'X' and 'y' but alternatively\n",
    "# 'X' and 'y' can be obtained directly from the frame attribute:\n",
    "# X = dataset.frame.drop('survived', axis=1)\n",
    "# y = dataset.frame['survived']\n",
    "\n",
    "# Preview of features\n",
    "X.head()"
   ]
  },
  {
   "cell_type": "code",
   "execution_count": 9,
   "metadata": {},
   "outputs": [
    {
     "data": {
      "text/plain": [
       "0    tested_positive\n",
       "1    tested_negative\n",
       "2    tested_positive\n",
       "3    tested_negative\n",
       "4    tested_positive\n",
       "Name: class, dtype: category\n",
       "Categories (2, object): [tested_negative, tested_positive]"
      ]
     },
     "execution_count": 9,
     "metadata": {},
     "output_type": "execute_result"
    }
   ],
   "source": [
    "# Preview of targets\n",
    "y.head()"
   ]
  },
  {
   "cell_type": "markdown",
   "metadata": {},
   "source": [
    "### 1.3 Exploring data\n",
    "#### 1.3.1 Statistics"
   ]
  },
  {
   "cell_type": "code",
   "execution_count": 10,
   "metadata": {},
   "outputs": [
    {
     "data": {
      "text/html": [
       "<div>\n",
       "<style scoped>\n",
       "    .dataframe tbody tr th:only-of-type {\n",
       "        vertical-align: middle;\n",
       "    }\n",
       "\n",
       "    .dataframe tbody tr th {\n",
       "        vertical-align: top;\n",
       "    }\n",
       "\n",
       "    .dataframe thead th {\n",
       "        text-align: right;\n",
       "    }\n",
       "</style>\n",
       "<table border=\"1\" class=\"dataframe\">\n",
       "  <thead>\n",
       "    <tr style=\"text-align: right;\">\n",
       "      <th></th>\n",
       "      <th>preg</th>\n",
       "      <th>plas</th>\n",
       "      <th>pres</th>\n",
       "      <th>skin</th>\n",
       "      <th>insu</th>\n",
       "      <th>mass</th>\n",
       "      <th>pedi</th>\n",
       "      <th>age</th>\n",
       "      <th>class</th>\n",
       "    </tr>\n",
       "  </thead>\n",
       "  <tbody>\n",
       "    <tr>\n",
       "      <th>count</th>\n",
       "      <td>768.0</td>\n",
       "      <td>768.0</td>\n",
       "      <td>768.0</td>\n",
       "      <td>768.0</td>\n",
       "      <td>768.0</td>\n",
       "      <td>768.0</td>\n",
       "      <td>768.0</td>\n",
       "      <td>768.0</td>\n",
       "      <td>768</td>\n",
       "    </tr>\n",
       "    <tr>\n",
       "      <th>unique</th>\n",
       "      <td>nan</td>\n",
       "      <td>nan</td>\n",
       "      <td>nan</td>\n",
       "      <td>nan</td>\n",
       "      <td>nan</td>\n",
       "      <td>nan</td>\n",
       "      <td>nan</td>\n",
       "      <td>nan</td>\n",
       "      <td>2</td>\n",
       "    </tr>\n",
       "    <tr>\n",
       "      <th>top</th>\n",
       "      <td>nan</td>\n",
       "      <td>nan</td>\n",
       "      <td>nan</td>\n",
       "      <td>nan</td>\n",
       "      <td>nan</td>\n",
       "      <td>nan</td>\n",
       "      <td>nan</td>\n",
       "      <td>nan</td>\n",
       "      <td>tested_negative</td>\n",
       "    </tr>\n",
       "    <tr>\n",
       "      <th>freq</th>\n",
       "      <td>nan</td>\n",
       "      <td>nan</td>\n",
       "      <td>nan</td>\n",
       "      <td>nan</td>\n",
       "      <td>nan</td>\n",
       "      <td>nan</td>\n",
       "      <td>nan</td>\n",
       "      <td>nan</td>\n",
       "      <td>500</td>\n",
       "    </tr>\n",
       "    <tr>\n",
       "      <th>mean</th>\n",
       "      <td>3.8</td>\n",
       "      <td>120.9</td>\n",
       "      <td>69.1</td>\n",
       "      <td>20.5</td>\n",
       "      <td>79.8</td>\n",
       "      <td>32.0</td>\n",
       "      <td>0.5</td>\n",
       "      <td>33.2</td>\n",
       "      <td>NaN</td>\n",
       "    </tr>\n",
       "    <tr>\n",
       "      <th>std</th>\n",
       "      <td>3.4</td>\n",
       "      <td>32.0</td>\n",
       "      <td>19.4</td>\n",
       "      <td>16.0</td>\n",
       "      <td>115.2</td>\n",
       "      <td>7.9</td>\n",
       "      <td>0.3</td>\n",
       "      <td>11.8</td>\n",
       "      <td>NaN</td>\n",
       "    </tr>\n",
       "    <tr>\n",
       "      <th>min</th>\n",
       "      <td>0.0</td>\n",
       "      <td>0.0</td>\n",
       "      <td>0.0</td>\n",
       "      <td>0.0</td>\n",
       "      <td>0.0</td>\n",
       "      <td>0.0</td>\n",
       "      <td>0.1</td>\n",
       "      <td>21.0</td>\n",
       "      <td>NaN</td>\n",
       "    </tr>\n",
       "    <tr>\n",
       "      <th>10%</th>\n",
       "      <td>0.0</td>\n",
       "      <td>85.0</td>\n",
       "      <td>54.0</td>\n",
       "      <td>0.0</td>\n",
       "      <td>0.0</td>\n",
       "      <td>23.6</td>\n",
       "      <td>0.2</td>\n",
       "      <td>22.0</td>\n",
       "      <td>NaN</td>\n",
       "    </tr>\n",
       "    <tr>\n",
       "      <th>50%</th>\n",
       "      <td>3.0</td>\n",
       "      <td>117.0</td>\n",
       "      <td>72.0</td>\n",
       "      <td>23.0</td>\n",
       "      <td>30.5</td>\n",
       "      <td>32.0</td>\n",
       "      <td>0.4</td>\n",
       "      <td>29.0</td>\n",
       "      <td>NaN</td>\n",
       "    </tr>\n",
       "    <tr>\n",
       "      <th>80%</th>\n",
       "      <td>7.0</td>\n",
       "      <td>147.0</td>\n",
       "      <td>82.0</td>\n",
       "      <td>35.0</td>\n",
       "      <td>150.0</td>\n",
       "      <td>37.8</td>\n",
       "      <td>0.7</td>\n",
       "      <td>42.6</td>\n",
       "      <td>NaN</td>\n",
       "    </tr>\n",
       "    <tr>\n",
       "      <th>95%</th>\n",
       "      <td>10.0</td>\n",
       "      <td>181.0</td>\n",
       "      <td>90.0</td>\n",
       "      <td>44.0</td>\n",
       "      <td>293.0</td>\n",
       "      <td>44.4</td>\n",
       "      <td>1.1</td>\n",
       "      <td>58.0</td>\n",
       "      <td>NaN</td>\n",
       "    </tr>\n",
       "    <tr>\n",
       "      <th>max</th>\n",
       "      <td>17.0</td>\n",
       "      <td>199.0</td>\n",
       "      <td>122.0</td>\n",
       "      <td>99.0</td>\n",
       "      <td>846.0</td>\n",
       "      <td>67.1</td>\n",
       "      <td>2.4</td>\n",
       "      <td>81.0</td>\n",
       "      <td>NaN</td>\n",
       "    </tr>\n",
       "  </tbody>\n",
       "</table>\n",
       "</div>"
      ],
      "text/plain": [
       "        preg  plas  pres  skin  insu  mass  pedi   age            class\n",
       "count  768.0 768.0 768.0 768.0 768.0 768.0 768.0 768.0              768\n",
       "unique   nan   nan   nan   nan   nan   nan   nan   nan                2\n",
       "top      nan   nan   nan   nan   nan   nan   nan   nan  tested_negative\n",
       "freq     nan   nan   nan   nan   nan   nan   nan   nan              500\n",
       "mean     3.8 120.9  69.1  20.5  79.8  32.0   0.5  33.2              NaN\n",
       "std      3.4  32.0  19.4  16.0 115.2   7.9   0.3  11.8              NaN\n",
       "min      0.0   0.0   0.0   0.0   0.0   0.0   0.1  21.0              NaN\n",
       "10%      0.0  85.0  54.0   0.0   0.0  23.6   0.2  22.0              NaN\n",
       "50%      3.0 117.0  72.0  23.0  30.5  32.0   0.4  29.0              NaN\n",
       "80%      7.0 147.0  82.0  35.0 150.0  37.8   0.7  42.6              NaN\n",
       "95%     10.0 181.0  90.0  44.0 293.0  44.4   1.1  58.0              NaN\n",
       "max     17.0 199.0 122.0  99.0 846.0  67.1   2.4  81.0              NaN"
      ]
     },
     "execution_count": 10,
     "metadata": {},
     "output_type": "execute_result"
    }
   ],
   "source": [
    "dataset = pd.concat([X, y], axis=1, sort=False)\n",
    "\n",
    "pd.options.display.float_format = '{:.1f}'.format\n",
    "#pd.reset_option('^display.', silent=True)\n",
    "\n",
    "# percentile list \n",
    "perc =[.10, .50, .80, .95] \n",
    "\n",
    "# list of dtypes to include \n",
    "include =['object', 'float', 'int', 'category', np.number, np.object] \n",
    "\n",
    "dataset.describe(percentiles = perc, include = include)"
   ]
  },
  {
   "cell_type": "markdown",
   "metadata": {},
   "source": [
    "#### 1.4.2 Checking for empty values"
   ]
  },
  {
   "cell_type": "code",
   "execution_count": 11,
   "metadata": {},
   "outputs": [
    {
     "data": {
      "text/plain": [
       "preg     0\n",
       "plas     0\n",
       "pres     0\n",
       "skin     0\n",
       "insu     0\n",
       "mass     0\n",
       "pedi     0\n",
       "age      0\n",
       "class    0\n",
       "dtype: int64"
      ]
     },
     "execution_count": 11,
     "metadata": {},
     "output_type": "execute_result"
    }
   ],
   "source": [
    "dataset.isnull().sum()"
   ]
  },
  {
   "cell_type": "markdown",
   "metadata": {},
   "source": [
    "#### 1.4.3 Histogram"
   ]
  },
  {
   "cell_type": "code",
   "execution_count": 12,
   "metadata": {},
   "outputs": [
    {
     "data": {
      "image/png": "[encoded data removed]",
      "text/plain": [
       "<Figure size 1080x1440 with 9 Axes>"
      ]
     },
     "metadata": {
      "needs_background": "light"
     },
     "output_type": "display_data"
    }
   ],
   "source": [
    "%matplotlib inline\n",
    "import matplotlib.pyplot as plt\n",
    "import warnings\n",
    "warnings.filterwarnings(\"ignore\")\n",
    "\n",
    "fig = plt.figure(figsize = (15,20))\n",
    "ax = fig.gca()\n",
    "\n",
    "hist = dataset.hist(bins=10, grid=False, ax=ax) "
   ]
  },
  {
   "cell_type": "markdown",
   "metadata": {},
   "source": [
    "#### 1.3.4 Heatmap"
   ]
  },
  {
   "cell_type": "code",
   "execution_count": 13,
   "metadata": {},
   "outputs": [
    {
     "data": {
      "text/plain": [
       "<matplotlib.axes._subplots.AxesSubplot at 0x119773580>"
      ]
     },
     "execution_count": 13,
     "metadata": {},
     "output_type": "execute_result"
    },
    {
     "data": {
      "image/png": "[encoded data removed]",
      "text/plain": [
       "<Figure size 864x864 with 2 Axes>"
      ]
     },
     "metadata": {
      "needs_background": "light"
     },
     "output_type": "display_data"
    }
   ],
   "source": [
    "import seaborn as sns\n",
    "\n",
    "cmap = sns.color_palette(\"RdBu_r\", 7)\n",
    "\n",
    "fig, ax = plt.subplots(figsize=(12,12))\n",
    "sns.heatmap(dataset.corr(), cmap=cmap, annot=True, ax=ax)"
   ]
  },
  {
   "cell_type": "markdown",
   "metadata": {},
   "source": [
    "#### 1.3.5 Pairplot (can be very slow with large dataset)"
   ]
  },
  {
   "cell_type": "code",
   "execution_count": 14,
   "metadata": {},
   "outputs": [],
   "source": [
    "if (draw_pairplot == True):\n",
    "    if ((ml_type == 'classification') or (ml_type == 'clustering')):\n",
    "        pairplot_dataset = dataset.fillna(method ='ffill')\n",
    "        sns.pairplot(pairplot_dataset, vars=pairplot_dataset.select_dtypes([np.number]).columns, hue=y.name, dropna='true') "
   ]
  },
  {
   "cell_type": "markdown",
   "metadata": {},
   "source": [
    "#### 1.3.6 Export to Excel (optional, can be very slow with large dataset)"
   ]
  },
  {
   "cell_type": "code",
   "execution_count": 15,
   "metadata": {},
   "outputs": [],
   "source": [
    "if (export_excel == True):\n",
    "    excel_filename = 'datasource-' + openml_source + '-v' + str(openml_version) + '.xlsx'\n",
    "    writer = pd.ExcelWriter(excel_filename)  \n",
    "\n",
    "    dataset.to_excel(writer)\n",
    "    writer.save()\n",
    "\n",
    "    print('DataFrame is written successfully to the Excel File:', excel_filename)  "
   ]
  },
  {
   "cell_type": "markdown",
   "metadata": {},
   "source": [
    "## 2. Preprocessing"
   ]
  },
  {
   "cell_type": "markdown",
   "metadata": {},
   "source": [
    "### 2.1 Transform target *y*"
   ]
  },
  {
   "cell_type": "code",
   "execution_count": 16,
   "metadata": {},
   "outputs": [
    {
     "data": {
      "text/plain": [
       "array([1, 0, 1, 0, 1, 0, 1, 0, 1, 1, 0, 1, 0, 1, 1, 1, 1, 1, 0, 1, 0, 0,\n",
       "       1, 1, 1, 1, 1, 0, 0, 0, 0, 1, 0, 0, 0, 0, 0, 1, 1, 1, 0, 0, 0, 1,\n",
       "       0, 1, 0, 0, 1, 0, 0, 0, 0, 1, 0, 0, 1, 0, 0, 0, 0, 1, 0, 0, 1, 0,\n",
       "       1, 0, 0, 0, 1, 0, 1, 0, 0, 0, 0, 0, 1, 0, 0, 0, 0, 0, 1, 0, 0, 0,\n",
       "       1, 0, 0, 0, 0, 1, 0, 0, 0, 0, 0, 1, 1, 0, 0, 0, 0, 0, 0, 0, 0, 1,\n",
       "       1, 1, 0, 0, 1, 1, 1, 0, 0, 0, 1, 0, 0, 0, 1, 1, 0, 0, 1, 1, 1, 1,\n",
       "       1, 0, 0, 0, 0, 0, 0, 0, 0, 0, 0, 1, 0, 0, 0, 0, 0, 0, 0, 0, 1, 0,\n",
       "       1, 1, 0, 0, 0, 1, 0, 0, 0, 0, 1, 1, 0, 0, 0, 0, 1, 1, 0, 0, 0, 1,\n",
       "       0, 1, 0, 1, 0, 0, 0, 0, 0, 1, 1, 1, 1, 1, 0, 0, 1, 1, 0, 1, 0, 1,\n",
       "       1, 1, 0, 0, 0, 0, 0, 0, 1, 1, 0, 1, 0, 0, 0, 1, 1, 1, 1, 0, 1, 1,\n",
       "       1, 1, 0, 0, 0, 0, 0, 1, 0, 0, 1, 1, 0, 0, 0, 1, 1, 1, 1, 0, 0, 0,\n",
       "       1, 1, 0, 1, 0, 0, 0, 0, 0, 0, 0, 0, 1, 1, 0, 0, 0, 1, 0, 1, 0, 0,\n",
       "       1, 0, 1, 0, 0, 1, 1, 0, 0, 0, 0, 0, 1, 0, 0, 0, 1, 0, 0, 1, 1, 0,\n",
       "       0, 1, 0, 0, 0, 1, 1, 1, 0, 0, 1, 0, 1, 0, 1, 1, 0, 1, 0, 0, 1, 0,\n",
       "       1, 1, 0, 0, 1, 0, 1, 0, 0, 1, 0, 1, 0, 1, 1, 1, 0, 0, 1, 0, 1, 0,\n",
       "       0, 0, 1, 0, 0, 0, 0, 1, 1, 1, 0, 0, 0, 0, 0, 0, 0, 0, 0, 1, 0, 0,\n",
       "       0, 0, 0, 1, 1, 1, 0, 1, 1, 0, 0, 1, 0, 0, 1, 0, 0, 1, 1, 0, 0, 0,\n",
       "       0, 1, 0, 0, 1, 0, 0, 0, 0, 0, 0, 0, 1, 1, 1, 0, 0, 1, 0, 0, 1, 0,\n",
       "       0, 1, 0, 1, 1, 0, 1, 0, 1, 0, 1, 0, 1, 1, 0, 0, 0, 0, 1, 1, 0, 1,\n",
       "       0, 1, 0, 0, 0, 0, 1, 1, 0, 1, 0, 1, 0, 0, 0, 0, 0, 1, 0, 0, 0, 0,\n",
       "       1, 0, 0, 1, 1, 1, 0, 0, 1, 0, 0, 1, 0, 0, 0, 1, 0, 0, 1, 0, 0, 0,\n",
       "       0, 0, 0, 0, 0, 0, 1, 0, 0, 0, 0, 0, 0, 0, 1, 0, 0, 0, 1, 0, 0, 0,\n",
       "       1, 1, 0, 0, 0, 0, 0, 0, 0, 1, 0, 0, 0, 0, 1, 0, 0, 0, 1, 0, 0, 0,\n",
       "       1, 0, 0, 0, 1, 0, 0, 0, 0, 1, 1, 0, 0, 0, 0, 0, 0, 1, 0, 0, 0, 0,\n",
       "       0, 0, 0, 0, 0, 0, 0, 1, 0, 0, 0, 1, 1, 1, 1, 0, 0, 1, 1, 0, 0, 0,\n",
       "       0, 0, 0, 0, 0, 0, 0, 0, 0, 0, 1, 1, 0, 0, 0, 0, 0, 0, 0, 1, 0, 0,\n",
       "       0, 0, 0, 0, 0, 1, 0, 1, 1, 0, 0, 0, 1, 0, 1, 0, 1, 0, 1, 0, 1, 0,\n",
       "       0, 1, 0, 0, 1, 0, 0, 0, 0, 1, 1, 0, 1, 0, 0, 0, 0, 1, 1, 0, 1, 0,\n",
       "       0, 0, 1, 1, 0, 0, 0, 0, 0, 0, 0, 0, 0, 0, 1, 0, 0, 0, 0, 1, 0, 0,\n",
       "       1, 0, 0, 0, 1, 0, 0, 0, 1, 1, 1, 0, 0, 0, 0, 0, 0, 1, 0, 0, 0, 1,\n",
       "       0, 1, 1, 1, 1, 0, 1, 1, 0, 0, 0, 0, 0, 0, 0, 1, 1, 0, 1, 0, 0, 1,\n",
       "       0, 1, 0, 0, 0, 0, 0, 1, 0, 1, 0, 1, 0, 1, 1, 0, 0, 0, 0, 1, 1, 0,\n",
       "       0, 0, 1, 0, 1, 1, 0, 0, 1, 0, 0, 1, 1, 0, 0, 1, 0, 0, 1, 0, 0, 0,\n",
       "       0, 0, 0, 0, 1, 1, 1, 0, 0, 0, 0, 0, 0, 1, 1, 0, 0, 1, 0, 0, 1, 0,\n",
       "       1, 1, 1, 0, 0, 1, 1, 1, 0, 1, 0, 1, 0, 1, 0, 0, 0, 0, 1, 0])"
      ]
     },
     "execution_count": 16,
     "metadata": {},
     "output_type": "execute_result"
    }
   ],
   "source": [
    "if (label_encode_y == True):\n",
    "    from sklearn.preprocessing import LabelEncoder\n",
    "\n",
    "    le = LabelEncoder()\n",
    "    y_preprocessed = np.ravel(pd.DataFrame(data=le.fit_transform(y), columns=[y.name]))\n",
    "else:\n",
    "    y_preprocessed = y\n",
    "    \n",
    "y_preprocessed"
   ]
  },
  {
   "cell_type": "markdown",
   "metadata": {},
   "source": [
    "### 2.2 Split between Train and Test dataset"
   ]
  },
  {
   "cell_type": "code",
   "execution_count": 17,
   "metadata": {},
   "outputs": [
    {
     "name": "stdout",
     "output_type": "stream",
     "text": [
      "     preg  plas  pres  skin  insu  mass  pedi  age\n",
      "60    2.0  84.0   0.0   0.0   0.0   0.0   0.3 21.0\n",
      "618   9.0 112.0  82.0  24.0   0.0  28.2   1.3 50.0\n",
      "346   1.0 139.0  46.0  19.0  83.0  28.7   0.7 22.0\n",
      "294   0.0 161.0  50.0   0.0   0.0  21.9   0.3 65.0\n",
      "231   6.0 134.0  80.0  37.0 370.0  46.2   0.2 46.0\n",
      "..    ...   ...   ...   ...   ...   ...   ...  ...\n",
      "71    5.0 139.0  64.0  35.0 140.0  28.6   0.4 26.0\n",
      "106   1.0  96.0 122.0   0.0   0.0  22.4   0.2 27.0\n",
      "270  10.0 101.0  86.0  37.0   0.0  45.6   1.1 38.0\n",
      "435   0.0 141.0   0.0   0.0   0.0  42.4   0.2 29.0\n",
      "102   0.0 125.0  96.0   0.0   0.0  22.5   0.3 21.0\n",
      "\n",
      "[614 rows x 8 columns]\n"
     ]
    }
   ],
   "source": [
    "from sklearn.model_selection import train_test_split\n",
    "\n",
    "X_train, X_test, y_train, y_test = train_test_split(X, y_preprocessed, test_size=0.2)\n",
    "\n",
    "print(X_train)"
   ]
  },
  {
   "cell_type": "markdown",
   "metadata": {},
   "source": [
    "### 2.3 Preparation for Imputing missing values, Standardizing Numeric Features and Encoding Categorical Features <span style=\"color:red\">(*to be modified*)</span>\n",
    "\n",
    "https://scikit-learn.org/stable/auto_examples/compose/plot_column_transformer_mixed_types.html?highlight=standardscaler\n",
    "\n",
    "https://scikit-learn.org/stable/auto_examples/preprocessing/plot_all_scaling.html#sphx-glr-auto-examples-preprocessing-plot-all-scaling-py\n",
    "\n",
    "We will train our classifier with the numeric and categorical features"
   ]
  },
  {
   "cell_type": "markdown",
   "metadata": {},
   "source": [
    "#### 2.3.4 For Strikes dataset"
   ]
  },
  {
   "cell_type": "code",
   "execution_count": 18,
   "metadata": {},
   "outputs": [],
   "source": [
    "if (preprocessing_engine != 'generic') and (openml_source == 'strikes'):\n",
    "    print(\"Preparation of the preprocessing pipeline for\",  openml_source, \"dataset\")\n",
    "    \n",
    "    from sklearn.impute import (\n",
    "        SimpleImputer, KNNImputer, MissingIndicator)\n",
    "    from sklearn.preprocessing import (\n",
    "        StandardScaler, RobustScaler, MinMaxScaler, minmax_scale, \n",
    "        MaxAbsScaler, PowerTransformer, Normalizer)\n",
    "    from sklearn.pipeline import Pipeline\n",
    "\n",
    "    # Numeric Features:\n",
    "    numeric_features = ['unemployment', 'inflation', 'parliamentary_representation', 'union_centralization']\n",
    "    numeric_transformer = Pipeline(steps=[\n",
    "        ('imputer', SimpleImputer(strategy='median')),\n",
    "        ('scaler', RobustScaler())])\n",
    "\n",
    "    # Categorical Features:\n",
    "#    from sklearn.preprocessing import OneHotEncoder\n",
    "\n",
    "#    categorical_features = ['country_code']\n",
    "#    categorical_transformer = Pipeline(steps=[\n",
    "#        ('imputer', SimpleImputer(strategy='constant', fill_value=0)),\n",
    "#        ('onehot', OneHotEncoder(handle_unknown='ignore'))])\n",
    "\n",
    "    # We create the preprocessing pipelines for both numeric and categorical data.\n",
    "    from sklearn.compose import ColumnTransformer\n",
    "\n",
    "    preprocessor = ColumnTransformer(\n",
    "        transformers=[\n",
    "            ('num', numeric_transformer, numeric_features)])\n",
    "#            ('cat', categorical_transformer, categorical_features)])\n",
    "\n",
    "    pipeline = Pipeline(steps=[('preprocessor', preprocessor)])"
   ]
  },
  {
   "cell_type": "markdown",
   "metadata": {},
   "source": [
    "#### 2.3.5 For Credit Card Fraud Detection"
   ]
  },
  {
   "cell_type": "code",
   "execution_count": 19,
   "metadata": {},
   "outputs": [],
   "source": [
    "if (preprocessing_engine != 'generic') and (openml_source == 'CreditCardFraudDetection'):\n",
    "    print(\"Preparation of the preprocessing pipeline for\",  openml_source, \"dataset\")\n",
    "    \n",
    "    from sklearn.impute import (\n",
    "        SimpleImputer, KNNImputer, MissingIndicator)\n",
    "    from sklearn.preprocessing import (\n",
    "        StandardScaler, RobustScaler, MinMaxScaler, minmax_scale, \n",
    "        MaxAbsScaler, PowerTransformer, Normalizer)\n",
    "    from sklearn.pipeline import Pipeline\n",
    "\n",
    "    # Numeric Features:\n",
    "    numeric_features = ['V1', 'V2', 'V3', 'V4', 'V5', 'V6', 'V7', 'V8', 'V9', 'V10', 'V11', 'V12',\n",
    "                       'V13', 'V14', 'V15', 'V16', 'V17', 'V18', 'V19', 'V20', 'V21', 'V22', 'V23', 'V24',\n",
    "                       'V25', 'V26', 'V27', 'V28', 'Amount']\n",
    "    numeric_transformer = Pipeline(steps=[\n",
    "        ('imputer', SimpleImputer(strategy='median')),\n",
    "        ('scaler', RobustScaler())])\n",
    "\n",
    "    # Categorical Features:\n",
    "#    from sklearn.preprocessing import OneHotEncoder\n",
    "\n",
    "#    categorical_features = ['country_code']\n",
    "#    categorical_transformer = Pipeline(steps=[\n",
    "#        ('imputer', SimpleImputer(strategy='constant', fill_value=0)),\n",
    "#        ('onehot', OneHotEncoder(handle_unknown='ignore'))])\n",
    "\n",
    "    # We create the preprocessing pipelines for both numeric and categorical data.\n",
    "    from sklearn.compose import ColumnTransformer\n",
    "\n",
    "    preprocessor = ColumnTransformer(\n",
    "        transformers=[\n",
    "            ('num', numeric_transformer, numeric_features)])\n",
    "#            ('cat', categorical_transformer, categorical_features)])\n",
    "\n",
    "    pipeline = Pipeline(steps=[('preprocessor', preprocessor)])"
   ]
  },
  {
   "cell_type": "markdown",
   "metadata": {},
   "source": [
    "#### <span style=\"color:red\">2.3.? Improve the preprocessing pipeline</span>\n",
    "\n",
    "https://scikit-learn.org/stable/auto_examples/compose/plot_column_transformer_mixed_types.html?highlight=standardscaler#using-the-prediction-pipeline-in-a-grid-search\n",
    "\n",
    "Different imputers:\n",
    "https://scikit-learn.org/stable/auto_examples/impute/plot_missing_values.html?highlight=imputer\n",
    "\n",
    "Different scalers:\n",
    "https://scikit-learn.org/stable/auto_examples/preprocessing/plot_all_scaling.html#sphx-glr-auto-examples-preprocessing-plot-all-scaling-py"
   ]
  },
  {
   "cell_type": "raw",
   "metadata": {},
   "source": [
    "#param_grid = {\n",
    "#    'preprocessor__num__imputer': [SimpleImputer(strategy='constant', fill_value=0),\n",
    "#                                  SimpleImputer(strategy=\"mean\"),\n",
    "#                                  SimpleImputer(strategy=\"median\"),\n",
    "#                                  KNNImputer()],\n",
    "#    'preprocessor__num__scaler': [StandardScaler(), \n",
    "#                                  MinMaxScaler(), \n",
    "#                                  MaxAbsScaler(), \n",
    "#                                  RobustScaler(quantile_range=(25, 75)), \n",
    "#                                  PowerTransformer(method='yeo-johnson'), \n",
    "#                                  Normalizer()],\n",
    "#    'classifier__C': [0.5, 1.0, 5, 10]\n",
    "#}\n",
    "#\n",
    "#grid_search = GridSearchCV(estim_grid, param_grid, verbose=1)\n",
    "#grid_search.fit(X_train, y_train)\n",
    "#\n",
    "#print((\"Best logistic regression from grid search: %.2f%%\"\n",
    "#       % (grid_search.score(X_test, y_test)*100)))\n",
    "#\n",
    "#print(\"\")\n",
    "#print(\"******************\")\n",
    "#print(\"Best estimator:\", grid_search.best_estimator_)\n",
    "#print(\"Best parameters:\", grid_search.best_params_)\n",
    "#print(\"Best score: %.2f%%\" % (grid_search.best_score_ * 100))\n",
    "#print(\"# splits: \", grid_search.n_splits_)\n",
    "#print(\"Refit time: %.0f seconds\" % grid_search.refit_time_)\n",
    "#print(\"******************\")"
   ]
  },
  {
   "cell_type": "markdown",
   "metadata": {},
   "source": [
    "### 2.? Normalization"
   ]
  },
  {
   "cell_type": "markdown",
   "metadata": {},
   "source": [
    "### 2.? Discretization"
   ]
  },
  {
   "cell_type": "markdown",
   "metadata": {},
   "source": [
    "### 2.? Non-linear transformation"
   ]
  },
  {
   "cell_type": "markdown",
   "metadata": {},
   "source": [
    "### 2.? Generating polynomial features"
   ]
  },
  {
   "cell_type": "markdown",
   "metadata": {},
   "source": [
    "### 2.? Feature extraction"
   ]
  },
  {
   "cell_type": "markdown",
   "metadata": {},
   "source": [
    "#### 2.?.? Text feature extraction"
   ]
  },
  {
   "cell_type": "markdown",
   "metadata": {},
   "source": [
    "#### 2.?.? Feature hashing (FeatureHasher)"
   ]
  },
  {
   "cell_type": "markdown",
   "metadata": {},
   "source": [
    "#### 2.?.? Loading features from dicts (DictVectorizer)"
   ]
  },
  {
   "cell_type": "markdown",
   "metadata": {},
   "source": [
    "## 3. Hyperparameter optimization across multiple models\n",
    "### 3.1 Dictionary of models and dictionary of parameters for each model\n",
    "#### 3.1.1 Classification"
   ]
  },
  {
   "cell_type": "code",
   "execution_count": 20,
   "metadata": {},
   "outputs": [],
   "source": [
    "if (ml_type == \"classification\"):\n",
    "    from sklearn.linear_model import LogisticRegression\n",
    "    from sklearn.neighbors import KNeighborsClassifier\n",
    "    from sklearn.svm import SVC\n",
    "    from sklearn.ensemble import AdaBoostClassifier, GradientBoostingClassifier, RandomForestClassifier, ExtraTreesClassifier\n",
    "    from sklearn.tree import DecisionTreeClassifier\n",
    "    from sklearn.naive_bayes import GaussianNB\n",
    "\n",
    "    models = {\n",
    "        'LogisticRegression': LogisticRegression(max_iter=400),\n",
    "        'KNeighborsClassifier': KNeighborsClassifier(),\n",
    "        'DecisionTreeClassifier': DecisionTreeClassifier(),\n",
    "        'ExtraTreesClassifier': ExtraTreesClassifier(),\n",
    "        'AdaBoostClassifier': AdaBoostClassifier(),\n",
    "        'GradientBoostingClassifier': GradientBoostingClassifier(),\n",
    "        'RandomForestClassifier': RandomForestClassifier(),\n",
    "        'GaussianNB': GaussianNB(),\n",
    "        'SVC': SVC()\n",
    "    }\n",
    "\n",
    "    params = {\n",
    "        'LogisticRegression': [\n",
    "            { 'penalty': ['l1'], 'solver': ['liblinear', 'saga'], 'C': [1, 10, 100, 1000]},\n",
    "            { 'penalty': ['l2'], 'solver': ['newton-cg', 'lbfgs', 'sag', 'saga'], 'C': [1, 10, 100, 1000]},\n",
    "        ],\n",
    "        'KNeighborsClassifier': { 'algorithm': ['ball_tree', 'kd_tree', 'brute'], 'leaf_size': [1, 50, 100, 250, 500]},\n",
    "        'DecisionTreeClassifier': { 'criterion': ['gini', 'entropy'], 'splitter': ['best', 'random']},\n",
    "        'ExtraTreesClassifier': { 'n_estimators': [16, 32, 64] },\n",
    "        'AdaBoostClassifier':  { 'n_estimators': [16, 32, 64], 'learning_rate': [0.1, 0.5, 1.0], 'algorithm': ['SAMME', 'SAMME.R']},\n",
    "        'GradientBoostingClassifier': { 'n_estimators': [16, 32, 64], 'learning_rate': [0.1, 0.5, 1.0], 'criterion': ['friedman_mse', 'mse', 'mae']},\n",
    "        'RandomForestClassifier': { 'n_estimators': [16, 32, 64], 'criterion':  ['gini', 'entropy']},\n",
    "        'GaussianNB': {},\n",
    "        'SVC': [\n",
    "            {'kernel': ['linear'], 'C': np.logspace(-3, 3, 6)},\n",
    "            {'kernel': ['poly'], 'C': np.logspace(-3, 3, 6)},\n",
    "            {'kernel': ['rbf'], 'C': np.logspace(-3, 3, 6), 'gamma': [0.001, 0.0001]},\n",
    "            {'kernel': ['sigmoid'], 'C': np.logspace(-3, 3, 6)}\n",
    "        ]\n",
    "    }"
   ]
  },
  {
   "cell_type": "markdown",
   "metadata": {},
   "source": [
    "#### 3.1.2 Regression"
   ]
  },
  {
   "cell_type": "code",
   "execution_count": 21,
   "metadata": {},
   "outputs": [],
   "source": [
    "if (ml_type == 'regression'):\n",
    "    from sklearn.linear_model import LinearRegression\n",
    "    from sklearn.svm import SVR\n",
    "    from sklearn.tree import DecisionTreeRegressor\n",
    "    from sklearn import linear_model #Lasso\n",
    "    from sklearn.linear_model import Ridge\n",
    "    from sklearn.linear_model import ElasticNet\n",
    "\n",
    "    models = {\n",
    "        'Linear Regression': LinearRegression(),\n",
    "        'SVR': SVR(),\n",
    "        'Decision Tree': DecisionTreeRegressor(),\n",
    "#        'Lasso': Lasso(alpha=0.1), why would you run Ridge and Lasso separately from ElasticNet as they are special cases of ElasticNet?\n",
    "        'Ridge': Ridge(),\n",
    "        'ElasticNet': ElasticNet()\n",
    "    }\n",
    "    \n",
    "    params = {\n",
    "        'Linear Regression': {},\n",
    "        'SVR': [\n",
    "            {'kernel': ['linear'], 'C': np.logspace(-3, 3, 6), 'epsilon': [0.01, 0.1, 1]},\n",
    "            {'kernel': ['poly'], 'C': np.logspace(-3, 3, 6), 'degree': [2, 3, 4], 'gamma': ['scale', 'auto', 0.001, 0.0001], 'epsilon': [0.01, 0.1, 1]},\n",
    "            {'kernel': ['rbf'], 'C': np.logspace(-3, 3, 6), 'gamma': ['scale', 'auto', 0.001, 0.0001], 'epsilon': [0.01, 0.1, 1]},\n",
    "            {'kernel': ['sigmoid'], 'C': np.logspace(-3, 3, 6), 'gamma': ['scale', 'auto', 0.001, 0.0001], 'epsilon': [0.01, 0.1, 1]}\n",
    "        ],\n",
    "        'Decision Tree': { 'criterion': ['mse', 'friedman_mse', 'mae'], 'splitter': ['best', 'random']},\n",
    "#        'Lasso': {},\n",
    "        'Ridge': { 'solver': ['svd', 'cholesky', 'lsqr', 'sparse_cg', 'sag', 'saga'], 'alpha': [0.1, 1.0, 10.0]},\n",
    "        'ElasticNet': { 'l1_ratio': [0.1, 0.5, 1.0], 'alpha': [0.1, 1.0, 10.0]}\n",
    "    }"
   ]
  },
  {
   "cell_type": "markdown",
   "metadata": {},
   "source": [
    "#### 3.1.3 Clustering"
   ]
  },
  {
   "cell_type": "code",
   "execution_count": 22,
   "metadata": {},
   "outputs": [],
   "source": [
    "if (ml_type == 'clustering'):\n",
    "    from sklearn.cluster import KMeans\n",
    "    from sklearn.cluster import MiniBatchKMeans\n",
    "    from sklearn.cluster import MeanShift \n",
    "    from sklearn.cluster import DBSCAN\n",
    "    from sklearn.cluster import AgglomerativeClustering\n",
    "    from sklearn.cluster import Birch\n",
    "    from sklearn import cluster #Feature Agglomeration\n",
    "    from sklearn.cluster import AffinityPropagation\n",
    "\n",
    "    models = {\n",
    "        'K-means': KMeans(n_clusters=2),\n",
    "        'Mini Batch K-means': MiniBatchKMeans(n_clusters=2, batch_size=6),\n",
    "#        'Mean Shift': MeanShift(bandwidth=2),\n",
    "#        'DBSCAN': DBSCAN(eps=3, min_samples=2),\n",
    "#        'Agglomerative Clustering': AgglomerativeClustering(),\n",
    "#        'Birch': Birch(n_clusters=None),\n",
    "#        'Feature Agglomeration': cluster.FeatureAgglomeration(n_clusters=32),\n",
    "#        'Affinity Propagation': AffinityPropagation()\n",
    "    }\n",
    "    \n",
    "    params = {\n",
    "        'K-means': {},\n",
    "        'Mini Batch K-means': {},\n",
    "#        'Mean Shift': {},\n",
    "#        'DBSCAN': {},\n",
    "#        'Agglomerative Clustering': {},\n",
    "#        'Birch': {},\n",
    "#        'Feature Agglomeration': {},\n",
    "#        'Affinity Propagation': {}\n",
    "    }"
   ]
  },
  {
   "cell_type": "markdown",
   "metadata": {},
   "source": [
    "#### 3.1.4 Dimensionality reduction"
   ]
  },
  {
   "cell_type": "code",
   "execution_count": 23,
   "metadata": {},
   "outputs": [],
   "source": [
    "if (ml_type == 'dimensionality-reduction'):\n",
    "    from sklearn.decomposition import FastICA\n",
    "    from sklearn.decomposition import IncrementalPCA\n",
    "    from sklearn.decomposition import PCA\n",
    "    from sklearn.decomposition import KernelPCA\n",
    "    from sklearn.decomposition import SparsePCA\n",
    "    from sklearn.decomposition import NMF\n",
    "    from sklearn.discriminant_analysis import LinearDiscriminantAnalysis\n",
    "    from sklearn.neighbors import NeighborhoodComponentsAnalysis\n",
    "    from sklearn.manifold import TSNE\n",
    "    from sklearn.manifold import Isomap\n",
    "    from sklearn.manifold import SpectralEmbedding\n",
    "    from sklearn.manifold import LocallyLinearEmbedding\n",
    "    \n",
    "    models = {\n",
    "        'Fast ICA': FastICA(n_components=7),\n",
    "        'Incremental PCA': IncrementalPCA(n_components=7, batch_size=200),\n",
    "        'PCA': PCA(n_components=2),\n",
    "        'Kernel PCA': KernelPCA(n_components=7, kernel='linear'),\n",
    "        'Sparse PCA': SparsePCA(n_components=5),\n",
    "        'NMF': NMF(n_components=2, init='random'),\n",
    "        'LDA': LinearDiscriminantAnalysis(n_components=2),\n",
    "        'Neighborhood Component Analysis': NeighborhoodComponentsAnalysis(n_components=2),\n",
    "        't-SNE': TSNE(n_components=2),\n",
    "        'Isomap': Isomap(n_components=2),\n",
    "        'SpectralEmbedding': SpectralEmbedding(n_components=2),\n",
    "        'LLE': LocallyLinearEmbedding(n_components=2)\n",
    "    }\n",
    "    \n",
    "    params = {\n",
    "        'Fast ICA': {},\n",
    "        'Incremental PCA': {},\n",
    "        'PCA': {},\n",
    "        'Kernel PCA': {},\n",
    "        'Sparse PCA': {},\n",
    "        'NMF': {},\n",
    "        'LDA': {},\n",
    "        'Neighborhood Component Analysis': {},\n",
    "        't-SNE': {},\n",
    "        'Isomap': {},\n",
    "        'SpectralEmbedding': {},\n",
    "        'LLE': {}\n",
    "    }"
   ]
  },
  {
   "cell_type": "markdown",
   "metadata": {},
   "source": [
    "### 3.2 Definition of the helper"
   ]
  },
  {
   "cell_type": "code",
   "execution_count": 24,
   "metadata": {},
   "outputs": [],
   "source": [
    "from sklearn.model_selection import GridSearchCV\n",
    "from sklearn.impute import (\n",
    "    SimpleImputer, KNNImputer, MissingIndicator)\n",
    "from sklearn.preprocessing import (\n",
    "    StandardScaler, RobustScaler, MinMaxScaler, minmax_scale, \n",
    "    MaxAbsScaler, PowerTransformer, Normalizer)\n",
    "from sklearn.pipeline import Pipeline\n",
    "from sklearn.compose import ColumnTransformer\n",
    "\n",
    "class EstimatorSelectionHelper:\n",
    "\n",
    "    def __init__(self, models, params):\n",
    "        if not set(models.keys()).issubset(set(params.keys())):\n",
    "            missing_params = list(set(models.keys()) - set(params.keys()))\n",
    "            raise ValueError(\"Some estimators are missing parameters: %s\" % missing_params)\n",
    "        self.models = models\n",
    "        self.params = params\n",
    "        self.keys = models.keys()\n",
    "        self.grid_searches = {}\n",
    "        self.preprocessor = None\n",
    "\n",
    "    def preprocess(self, X_train, y_train, numeric_features, categorical_features = None):\n",
    "        print(\"Preparation of the preprocessing pipeline for the dataset\")\n",
    "\n",
    "        # Numeric Features:\n",
    "        numeric_transformer = Pipeline(steps=[\n",
    "            ('imputer', SimpleImputer(strategy='median')),\n",
    "            ('scaler', RobustScaler())])\n",
    "\n",
    "        # Categorical Features:\n",
    "        if (categorical_features != None):\n",
    "            from sklearn.preprocessing import OneHotEncoder    \n",
    "\n",
    "            categorical_transformer = Pipeline(steps=[\n",
    "                ('imputer', SimpleImputer(strategy='constant', fill_value='missing')),\n",
    "                ('onehot', OneHotEncoder(handle_unknown='ignore'))])\n",
    "\n",
    "        # We create the preprocessing pipelines for both numeric and categorical data.\n",
    "        if (categorical_features != None):\n",
    "            self.preprocessor = ColumnTransformer(\n",
    "                transformers=[\n",
    "                    ('num', numeric_transformer, numeric_features),\n",
    "                    ('cat', categorical_transformer, categorical_features)])\n",
    "        else:\n",
    "            self.preprocessor = ColumnTransformer(\n",
    "                transformers=[\n",
    "                    ('num', numeric_transformer, numeric_features)])\n",
    "\n",
    "        pipeline = Pipeline(steps=[('preprocessor', self.preprocessor)])\n",
    "\n",
    "        # Check if there are categorical features to improve the column names\n",
    "        if (categorical_features == None):\n",
    "            X_train_preprocessed = pd.DataFrame(data=self.preprocessor.fit_transform(X_train, y_train), \n",
    "                                                columns=(numeric_features))\n",
    "        else:\n",
    "            X_train_preprocessed = pd.DataFrame(data=self.preprocessor.fit_transform(X_train, y_train), \n",
    "                                                columns=(numeric_features + pipeline.named_steps['preprocessor']\\\n",
    "                                                     .transformers_[1][1].named_steps['onehot']\\\n",
    "                                                     .get_feature_names(categorical_features).tolist()))\n",
    "        print(X_train_preprocessed.head())\n",
    "        return X_train_preprocessed\n",
    "        \n",
    "    def fit(self, X, y, cv=3, n_jobs=-1, verbose=1, scoring=None, refit=True): # n_jobs was 3\n",
    "        for key in self.keys:\n",
    "            print(\"Running GridSearchCV for %s.\" % key)\n",
    "            model = self.models[key]\n",
    "            params = self.params[key]\n",
    "                        \n",
    "            gs = GridSearchCV(model, params, cv=cv, n_jobs=n_jobs,\n",
    "                              verbose=verbose, scoring=scoring, refit=refit,\n",
    "                              return_train_score=True)\n",
    "            gs.fit(X,y)\n",
    "            self.grid_searches[key] = gs    \n",
    "\n",
    "    def score_summary(self, sort_by='mean_score'):\n",
    "        def row(key, scores, params):\n",
    "            d = {\n",
    "                 'estimator': key,\n",
    "                 'min_score': min(scores),\n",
    "                 'max_score': max(scores),\n",
    "                 'mean_score': np.mean(scores),\n",
    "                 'std_score': np.std(scores),\n",
    "            }\n",
    "            return pd.Series({**params,**d})\n",
    "\n",
    "        rows = []\n",
    "        for k in self.grid_searches:\n",
    "#            print(k, \"- Best estimator:\", self.grid_searches[k].best_estimator_, \"- Best score: %.2f%%\" % (self.grid_searches[k].best_score_*100), \"- Best Params :\", self.grid_searches[k].best_params_)\n",
    "            params = self.grid_searches[k].cv_results_['params']\n",
    "            scores = []\n",
    "            for i in range(self.grid_searches[k].cv):\n",
    "                key = \"split{}_test_score\".format(i)\n",
    "                r = self.grid_searches[k].cv_results_[key]        \n",
    "                scores.append(r.reshape(len(params),1))\n",
    "\n",
    "            all_scores = np.hstack(scores)\n",
    "            for p, s in zip(params,all_scores):\n",
    "                rows.append((row(k, s, p)))\n",
    "\n",
    "        df = pd.concat(rows, axis=1).T.sort_values([sort_by], ascending=False)\n",
    "\n",
    "        columns = ['estimator', 'min_score', 'mean_score', 'max_score', 'std_score']\n",
    "        columns = columns + [c for c in df.columns if c not in columns]\n",
    "\n",
    "        return df[columns]\n",
    "    \n",
    "    def get_best_model(self):\n",
    "        best_estimator = \"\"\n",
    "        best_score = 0\n",
    "        \n",
    "        for k in self.grid_searches:\n",
    "#            print(k, \"- Best estimator:\", \n",
    "#                  self.grid_searches[k].best_estimator_, \n",
    "#                  \"- Best score: %.2f%%\" % (self.grid_searches[k].best_score_*100), \n",
    "#                  \"- Best Params :\", self.grid_searches[k].best_params_)\n",
    "            if (self.grid_searches[k].best_score_ > best_score):\n",
    "                best_score = self.grid_searches[k].best_score_\n",
    "                best_estimator = k\n",
    "        \n",
    "        optimized_model = models[best_estimator]\n",
    "        optimized_model.set_params(**self.grid_searches[best_estimator].best_params_)\n",
    "        \n",
    "        print(\"Best model with %.2f%%\" % (best_score*100))\n",
    "#        print(optimized_model)\n",
    "        return optimized_model"
   ]
  },
  {
   "cell_type": "markdown",
   "metadata": {},
   "source": [
    "### 3.3 Cross-Validation (model selection)\n",
    "\n",
    "https://scikit-learn.org/stable/modules/classes.html#module-sklearn.metrics\n",
    "\n",
    "#### Scoring - Accuracy\n",
    "Accuracy is the most intuitive performance measure and it is simply a ratio of correctly predicted observation to the total observations. One may think that, if we have high accuracy then our model is best. Yes, accuracy is a great measure but only when you have symmetric datasets where values of false positive and false negatives are almost same. Therefore, you have to look at other parameters to evaluate the performance of your model.\n",
    "```\n",
    "Accuracy = (TruePositive + TrueNegative) / (TruePositive + FalsePositive + FalseNegative + TrueNegative)\n",
    "```\n",
    "\n",
    "#### Scoring - Precision\n",
    "Precision is the ratio of correctly predicted positive observations to the total predicted positive observations. The question that this metric answer is of all passengers that labeled as survived, how many actually survived? High precision relates to the low false positive rate.\n",
    "```\n",
    "Precision = TruePositive / (TruePositive + FalsePositive)\n",
    "```\n",
    "\n",
    "#### Scoring - Recall (sensitivity)\n",
    "Recall is the ratio of correctly predicted positive observations to the all observations in actual class - yes. The question recall answers is: Of all the passengers that truly survived, how many did we label? \n",
    "```\n",
    "Recall = TruePositive / (TruePositive + FalseNegative)\n",
    "```\n",
    "\n",
    "#### Scoring - F1 Score\n",
    "F1 Score is the weighted average of Precision and Recall. Therefore, this score takes both false positives and false negatives into account. Intuitively it is not as easy to understand as accuracy, but F1 is usually more useful than accuracy, especially if you have an uneven class distribution. Accuracy works best if false positives and false negatives have similar cost. If the cost of false positives and false negatives are very different, it’s better to look at both Precision and Recall.\n",
    "```\n",
    "F1 Score = 2*(Recall * Precision) / (Recall + Precision)\n",
    "```\n",
    "\n",
    "#### List of *Scorers*"
   ]
  },
  {
   "cell_type": "code",
   "execution_count": 25,
   "metadata": {},
   "outputs": [
    {
     "data": {
      "text/plain": [
       "dict_keys(['explained_variance', 'r2', 'max_error', 'neg_median_absolute_error', 'neg_mean_absolute_error', 'neg_mean_squared_error', 'neg_mean_squared_log_error', 'neg_root_mean_squared_error', 'neg_mean_poisson_deviance', 'neg_mean_gamma_deviance', 'accuracy', 'roc_auc', 'roc_auc_ovr', 'roc_auc_ovo', 'roc_auc_ovr_weighted', 'roc_auc_ovo_weighted', 'balanced_accuracy', 'average_precision', 'neg_log_loss', 'neg_brier_score', 'adjusted_rand_score', 'homogeneity_score', 'completeness_score', 'v_measure_score', 'mutual_info_score', 'adjusted_mutual_info_score', 'normalized_mutual_info_score', 'fowlkes_mallows_score', 'precision', 'precision_macro', 'precision_micro', 'precision_samples', 'precision_weighted', 'recall', 'recall_macro', 'recall_micro', 'recall_samples', 'recall_weighted', 'f1', 'f1_macro', 'f1_micro', 'f1_samples', 'f1_weighted', 'jaccard', 'jaccard_macro', 'jaccard_micro', 'jaccard_samples', 'jaccard_weighted'])"
      ]
     },
     "execution_count": 25,
     "metadata": {},
     "output_type": "execute_result"
    }
   ],
   "source": [
    "from sklearn import metrics\n",
    "\n",
    "metrics.SCORERS.keys()"
   ]
  },
  {
   "cell_type": "code",
   "execution_count": 26,
   "metadata": {},
   "outputs": [
    {
     "name": "stdout",
     "output_type": "stream",
     "text": [
      "Preparation of the preprocessing pipeline for the dataset\n",
      "   preg  plas  pres  skin  insu  mass  pedi  age\n",
      "0  -0.2  -0.8  -4.5  -0.7  -0.3  -3.5  -0.2 -0.5\n",
      "1   1.2  -0.1   0.6   0.0  -0.3  -0.4   2.4  1.3\n",
      "2  -0.4   0.6  -1.6  -0.1   0.3  -0.4   0.8 -0.4\n",
      "3  -0.6   1.1  -1.4  -0.7  -0.3  -1.1  -0.3  2.2\n",
      "4   0.6   0.4   0.5   0.4   2.5   1.5  -0.4  1.1\n"
     ]
    }
   ],
   "source": [
    "estimator_selection_helper = EstimatorSelectionHelper(models, params)\n",
    "X_train_preprocessed = estimator_selection_helper.preprocess(X_train, y_train, numeric_features, categorical_features)"
   ]
  },
  {
   "cell_type": "code",
   "execution_count": 27,
   "metadata": {},
   "outputs": [
    {
     "name": "stdout",
     "output_type": "stream",
     "text": [
      "Running GridSearchCV for LogisticRegression.\n",
      "Fitting 3 folds for each of 24 candidates, totalling 72 fits\n"
     ]
    },
    {
     "name": "stderr",
     "output_type": "stream",
     "text": [
      "[Parallel(n_jobs=5)]: Using backend LokyBackend with 5 concurrent workers.\n",
      "[Parallel(n_jobs=5)]: Done  72 out of  72 | elapsed:    1.4s finished\n",
      "[Parallel(n_jobs=5)]: Using backend LokyBackend with 5 concurrent workers.\n"
     ]
    },
    {
     "name": "stdout",
     "output_type": "stream",
     "text": [
      "Running GridSearchCV for KNeighborsClassifier.\n",
      "Fitting 3 folds for each of 15 candidates, totalling 45 fits\n"
     ]
    },
    {
     "name": "stderr",
     "output_type": "stream",
     "text": [
      "[Parallel(n_jobs=5)]: Done  45 out of  45 | elapsed:    0.3s finished\n",
      "[Parallel(n_jobs=5)]: Using backend LokyBackend with 5 concurrent workers.\n",
      "[Parallel(n_jobs=5)]: Done  12 out of  12 | elapsed:    0.0s finished\n",
      "[Parallel(n_jobs=5)]: Using backend LokyBackend with 5 concurrent workers.\n",
      "[Parallel(n_jobs=5)]: Done   9 out of   9 | elapsed:    0.2s finished\n"
     ]
    },
    {
     "name": "stdout",
     "output_type": "stream",
     "text": [
      "Running GridSearchCV for DecisionTreeClassifier.\n",
      "Fitting 3 folds for each of 4 candidates, totalling 12 fits\n",
      "Running GridSearchCV for ExtraTreesClassifier.\n",
      "Fitting 3 folds for each of 3 candidates, totalling 9 fits\n",
      "Running GridSearchCV for AdaBoostClassifier.\n",
      "Fitting 3 folds for each of 18 candidates, totalling 54 fits\n"
     ]
    },
    {
     "name": "stderr",
     "output_type": "stream",
     "text": [
      "[Parallel(n_jobs=5)]: Using backend LokyBackend with 5 concurrent workers.\n",
      "[Parallel(n_jobs=5)]: Done  54 out of  54 | elapsed:    1.0s finished\n",
      "[Parallel(n_jobs=5)]: Using backend LokyBackend with 5 concurrent workers.\n"
     ]
    },
    {
     "name": "stdout",
     "output_type": "stream",
     "text": [
      "Running GridSearchCV for GradientBoostingClassifier.\n",
      "Fitting 3 folds for each of 27 candidates, totalling 81 fits\n"
     ]
    },
    {
     "name": "stderr",
     "output_type": "stream",
     "text": [
      "[Parallel(n_jobs=5)]: Done  81 out of  81 | elapsed:    2.5s finished\n",
      "[Parallel(n_jobs=5)]: Using backend LokyBackend with 5 concurrent workers.\n"
     ]
    },
    {
     "name": "stdout",
     "output_type": "stream",
     "text": [
      "Running GridSearchCV for RandomForestClassifier.\n",
      "Fitting 3 folds for each of 6 candidates, totalling 18 fits\n"
     ]
    },
    {
     "name": "stderr",
     "output_type": "stream",
     "text": [
      "[Parallel(n_jobs=5)]: Done  18 out of  18 | elapsed:    0.4s finished\n",
      "[Parallel(n_jobs=5)]: Using backend LokyBackend with 5 concurrent workers.\n",
      "[Parallel(n_jobs=5)]: Done   3 out of   3 | elapsed:    0.0s finished\n",
      "[Parallel(n_jobs=5)]: Using backend LokyBackend with 5 concurrent workers.\n"
     ]
    },
    {
     "name": "stdout",
     "output_type": "stream",
     "text": [
      "Running GridSearchCV for GaussianNB.\n",
      "Fitting 3 folds for each of 1 candidates, totalling 3 fits\n",
      "Running GridSearchCV for SVC.\n",
      "Fitting 3 folds for each of 30 candidates, totalling 90 fits\n"
     ]
    },
    {
     "name": "stderr",
     "output_type": "stream",
     "text": [
      "[Parallel(n_jobs=5)]: Done  90 out of  90 | elapsed:    2.6s finished\n"
     ]
    }
   ],
   "source": [
    "estimator_selection_helper.fit(X_train_preprocessed, y_train, scoring=scoring_method, n_jobs=5)"
   ]
  },
  {
   "cell_type": "markdown",
   "metadata": {
    "collapsed": true
   },
   "source": [
    "### 3.4 Best parameters\n",
    "#### 3.4.1 Top 5"
   ]
  },
  {
   "cell_type": "code",
   "execution_count": 28,
   "metadata": {},
   "outputs": [
    {
     "data": {
      "text/html": [
       "<div>\n",
       "<style scoped>\n",
       "    .dataframe tbody tr th:only-of-type {\n",
       "        vertical-align: middle;\n",
       "    }\n",
       "\n",
       "    .dataframe tbody tr th {\n",
       "        vertical-align: top;\n",
       "    }\n",
       "\n",
       "    .dataframe thead th {\n",
       "        text-align: right;\n",
       "    }\n",
       "</style>\n",
       "<table border=\"1\" class=\"dataframe\">\n",
       "  <thead>\n",
       "    <tr style=\"text-align: right;\">\n",
       "      <th></th>\n",
       "      <th>estimator</th>\n",
       "      <th>min_score</th>\n",
       "      <th>mean_score</th>\n",
       "      <th>max_score</th>\n",
       "      <th>std_score</th>\n",
       "      <th>C</th>\n",
       "      <th>algorithm</th>\n",
       "      <th>criterion</th>\n",
       "      <th>gamma</th>\n",
       "      <th>kernel</th>\n",
       "      <th>leaf_size</th>\n",
       "      <th>learning_rate</th>\n",
       "      <th>n_estimators</th>\n",
       "      <th>penalty</th>\n",
       "      <th>solver</th>\n",
       "      <th>splitter</th>\n",
       "    </tr>\n",
       "  </thead>\n",
       "  <tbody>\n",
       "    <tr>\n",
       "      <th>72</th>\n",
       "      <td>GradientBoostingClassifier</td>\n",
       "      <td>0.6</td>\n",
       "      <td>0.7</td>\n",
       "      <td>0.7</td>\n",
       "      <td>0.0</td>\n",
       "      <td>NaN</td>\n",
       "      <td>NaN</td>\n",
       "      <td>friedman_mse</td>\n",
       "      <td>NaN</td>\n",
       "      <td>NaN</td>\n",
       "      <td>NaN</td>\n",
       "      <td>1.0</td>\n",
       "      <td>64</td>\n",
       "      <td>NaN</td>\n",
       "      <td>NaN</td>\n",
       "      <td>NaN</td>\n",
       "    </tr>\n",
       "    <tr>\n",
       "      <th>81</th>\n",
       "      <td>GradientBoostingClassifier</td>\n",
       "      <td>0.6</td>\n",
       "      <td>0.7</td>\n",
       "      <td>0.7</td>\n",
       "      <td>0.0</td>\n",
       "      <td>NaN</td>\n",
       "      <td>NaN</td>\n",
       "      <td>mse</td>\n",
       "      <td>NaN</td>\n",
       "      <td>NaN</td>\n",
       "      <td>NaN</td>\n",
       "      <td>1.0</td>\n",
       "      <td>64</td>\n",
       "      <td>NaN</td>\n",
       "      <td>NaN</td>\n",
       "      <td>NaN</td>\n",
       "    </tr>\n",
       "    <tr>\n",
       "      <th>80</th>\n",
       "      <td>GradientBoostingClassifier</td>\n",
       "      <td>0.6</td>\n",
       "      <td>0.7</td>\n",
       "      <td>0.7</td>\n",
       "      <td>0.0</td>\n",
       "      <td>NaN</td>\n",
       "      <td>NaN</td>\n",
       "      <td>mse</td>\n",
       "      <td>NaN</td>\n",
       "      <td>NaN</td>\n",
       "      <td>NaN</td>\n",
       "      <td>1.0</td>\n",
       "      <td>32</td>\n",
       "      <td>NaN</td>\n",
       "      <td>NaN</td>\n",
       "      <td>NaN</td>\n",
       "    </tr>\n",
       "    <tr>\n",
       "      <th>61</th>\n",
       "      <td>AdaBoostClassifier</td>\n",
       "      <td>0.6</td>\n",
       "      <td>0.7</td>\n",
       "      <td>0.7</td>\n",
       "      <td>0.0</td>\n",
       "      <td>NaN</td>\n",
       "      <td>SAMME.R</td>\n",
       "      <td>NaN</td>\n",
       "      <td>NaN</td>\n",
       "      <td>NaN</td>\n",
       "      <td>NaN</td>\n",
       "      <td>1.0</td>\n",
       "      <td>16</td>\n",
       "      <td>NaN</td>\n",
       "      <td>NaN</td>\n",
       "      <td>NaN</td>\n",
       "    </tr>\n",
       "    <tr>\n",
       "      <th>78</th>\n",
       "      <td>GradientBoostingClassifier</td>\n",
       "      <td>0.6</td>\n",
       "      <td>0.7</td>\n",
       "      <td>0.7</td>\n",
       "      <td>0.0</td>\n",
       "      <td>NaN</td>\n",
       "      <td>NaN</td>\n",
       "      <td>mse</td>\n",
       "      <td>NaN</td>\n",
       "      <td>NaN</td>\n",
       "      <td>NaN</td>\n",
       "      <td>0.5</td>\n",
       "      <td>64</td>\n",
       "      <td>NaN</td>\n",
       "      <td>NaN</td>\n",
       "      <td>NaN</td>\n",
       "    </tr>\n",
       "  </tbody>\n",
       "</table>\n",
       "</div>"
      ],
      "text/plain": [
       "                     estimator min_score mean_score max_score std_score    C  \\\n",
       "72  GradientBoostingClassifier       0.6        0.7       0.7       0.0  NaN   \n",
       "81  GradientBoostingClassifier       0.6        0.7       0.7       0.0  NaN   \n",
       "80  GradientBoostingClassifier       0.6        0.7       0.7       0.0  NaN   \n",
       "61          AdaBoostClassifier       0.6        0.7       0.7       0.0  NaN   \n",
       "78  GradientBoostingClassifier       0.6        0.7       0.7       0.0  NaN   \n",
       "\n",
       "   algorithm     criterion gamma kernel leaf_size learning_rate n_estimators  \\\n",
       "72       NaN  friedman_mse   NaN    NaN       NaN           1.0           64   \n",
       "81       NaN           mse   NaN    NaN       NaN           1.0           64   \n",
       "80       NaN           mse   NaN    NaN       NaN           1.0           32   \n",
       "61   SAMME.R           NaN   NaN    NaN       NaN           1.0           16   \n",
       "78       NaN           mse   NaN    NaN       NaN           0.5           64   \n",
       "\n",
       "   penalty solver splitter  \n",
       "72     NaN    NaN      NaN  \n",
       "81     NaN    NaN      NaN  \n",
       "80     NaN    NaN      NaN  \n",
       "61     NaN    NaN      NaN  \n",
       "78     NaN    NaN      NaN  "
      ]
     },
     "execution_count": 28,
     "metadata": {},
     "output_type": "execute_result"
    }
   ],
   "source": [
    "max_score = estimator_selection_helper.score_summary(sort_by='max_score')\n",
    "mean_score = estimator_selection_helper.score_summary(sort_by='mean_score')\n",
    "mean_score.head(5)"
   ]
  },
  {
   "cell_type": "markdown",
   "metadata": {},
   "source": [
    "#### 3.4.2 FacetGrid"
   ]
  },
  {
   "cell_type": "code",
   "execution_count": 29,
   "metadata": {},
   "outputs": [
    {
     "data": {
      "image/png": "[encoded data removed]",
      "text/plain": [
       "<Figure size 864x864 with 9 Axes>"
      ]
     },
     "metadata": {
      "needs_background": "light"
     },
     "output_type": "display_data"
    }
   ],
   "source": [
    "def hexbin(x, y, color, **kwargs):\n",
    "    cmap = sns.light_palette(color, as_cmap=True)\n",
    "    plt.hexbin(x, y, gridsize=15, cmap=cmap, **kwargs)\n",
    "\n",
    "g = sns.FacetGrid(max_score, hue=\"estimator\", col=\"estimator\", col_wrap=3, height=4)\n",
    "g.map(hexbin, \"mean_score\", \"max_score\", extent=[0, 1, 0, 1]);"
   ]
  },
  {
   "cell_type": "markdown",
   "metadata": {},
   "source": [
    "## 4. Retrain the (best) model"
   ]
  },
  {
   "cell_type": "code",
   "execution_count": 30,
   "metadata": {},
   "outputs": [
    {
     "name": "stdout",
     "output_type": "stream",
     "text": [
      "Best model with 66.80%\n"
     ]
    }
   ],
   "source": [
    "best_model = estimator_selection_helper.get_best_model()"
   ]
  },
  {
   "cell_type": "code",
   "execution_count": 31,
   "metadata": {},
   "outputs": [
    {
     "data": {
      "text/plain": [
       "GradientBoostingClassifier(ccp_alpha=0.0, criterion='friedman_mse', init=None,\n",
       "                           learning_rate=1.0, loss='deviance', max_depth=3,\n",
       "                           max_features=None, max_leaf_nodes=None,\n",
       "                           min_impurity_decrease=0.0, min_impurity_split=None,\n",
       "                           min_samples_leaf=1, min_samples_split=2,\n",
       "                           min_weight_fraction_leaf=0.0, n_estimators=64,\n",
       "                           n_iter_no_change=None, presort='deprecated',\n",
       "                           random_state=None, subsample=1.0, tol=0.0001,\n",
       "                           validation_fraction=0.1, verbose=0,\n",
       "                           warm_start=False)"
      ]
     },
     "execution_count": 31,
     "metadata": {},
     "output_type": "execute_result"
    }
   ],
   "source": [
    "best_model.fit(X_train_preprocessed, y_train)"
   ]
  },
  {
   "cell_type": "markdown",
   "metadata": {},
   "source": [
    "### 4.1 Confusion matrix"
   ]
  },
  {
   "cell_type": "code",
   "execution_count": 32,
   "metadata": {},
   "outputs": [
    {
     "name": "stdout",
     "output_type": "stream",
     "text": [
      "[[401   0]\n",
      " [  0 213]]\n"
     ]
    },
    {
     "data": {
      "image/png": "[encoded data removed]",
      "text/plain": [
       "<Figure size 432x288 with 2 Axes>"
      ]
     },
     "metadata": {
      "needs_background": "light"
     },
     "output_type": "display_data"
    }
   ],
   "source": [
    "if (ml_type == \"classification\"):\n",
    "    from sklearn.metrics import plot_confusion_matrix\n",
    "    \n",
    "    disp = plot_confusion_matrix(best_model, X_train_preprocessed, y_train,\n",
    "                                 cmap=plt.cm.Blues,\n",
    "                                 normalize=None)\n",
    "    disp.ax_.set_title(\"Confusion matrix\")\n",
    "    print(disp.confusion_matrix)"
   ]
  },
  {
   "cell_type": "markdown",
   "metadata": {},
   "source": [
    "## 5. Final evaluation with *Test* data"
   ]
  },
  {
   "cell_type": "markdown",
   "metadata": {},
   "source": [
    "### 5.1 Rebuild the final pipeline"
   ]
  },
  {
   "cell_type": "code",
   "execution_count": 33,
   "metadata": {},
   "outputs": [],
   "source": [
    "pipeline = Pipeline(steps=[('preprocessor', estimator_selection_helper.preprocessor),\n",
    "                           ('classifier', best_model)])\n",
    "\n",
    "X_train, X_test, y_train, y_test = train_test_split(X, y_preprocessed, test_size=0.2)\n",
    "#print(dataset_y.head())"
   ]
  },
  {
   "cell_type": "markdown",
   "metadata": {},
   "source": [
    "### 5.2 Feed the best model with *test* data"
   ]
  },
  {
   "cell_type": "code",
   "execution_count": 34,
   "metadata": {},
   "outputs": [
    {
     "data": {
      "text/plain": [
       "Pipeline(memory=None,\n",
       "         steps=[('preprocessor',\n",
       "                 ColumnTransformer(n_jobs=None, remainder='drop',\n",
       "                                   sparse_threshold=0.3,\n",
       "                                   transformer_weights=None,\n",
       "                                   transformers=[('num',\n",
       "                                                  Pipeline(memory=None,\n",
       "                                                           steps=[('imputer',\n",
       "                                                                   SimpleImputer(add_indicator=False,\n",
       "                                                                                 copy=True,\n",
       "                                                                                 fill_value=None,\n",
       "                                                                                 missing_values=nan,\n",
       "                                                                                 strategy='median',\n",
       "                                                                                 verbose=0)),\n",
       "                                                                  ('scaler',\n",
       "                                                                   RobustScaler(copy=True,\n",
       "                                                                                quantile_ra...\n",
       "                                            learning_rate=1.0, loss='deviance',\n",
       "                                            max_depth=3, max_features=None,\n",
       "                                            max_leaf_nodes=None,\n",
       "                                            min_impurity_decrease=0.0,\n",
       "                                            min_impurity_split=None,\n",
       "                                            min_samples_leaf=1,\n",
       "                                            min_samples_split=2,\n",
       "                                            min_weight_fraction_leaf=0.0,\n",
       "                                            n_estimators=64,\n",
       "                                            n_iter_no_change=None,\n",
       "                                            presort='deprecated',\n",
       "                                            random_state=None, subsample=1.0,\n",
       "                                            tol=0.0001, validation_fraction=0.1,\n",
       "                                            verbose=0, warm_start=False))],\n",
       "         verbose=False)"
      ]
     },
     "execution_count": 34,
     "metadata": {},
     "output_type": "execute_result"
    }
   ],
   "source": [
    "pipeline.fit(X_test, y_test)"
   ]
  },
  {
   "cell_type": "markdown",
   "metadata": {},
   "source": [
    "#### 5.2.1 Accuracy comparing the *test dataset* targets and the prediction "
   ]
  },
  {
   "cell_type": "code",
   "execution_count": 35,
   "metadata": {},
   "outputs": [
    {
     "name": "stdout",
     "output_type": "stream",
     "text": [
      "Model score: 100.00%\n"
     ]
    }
   ],
   "source": [
    "print(\"Model score: %.2f%%\" % (pipeline.score(X_test, y_test)*100))"
   ]
  },
  {
   "cell_type": "markdown",
   "metadata": {},
   "source": [
    "## 6. Use the optimized pipeline to predict with *real* data :) <span style=\"color:red\">(*to be instanciated*)</span>"
   ]
  },
  {
   "cell_type": "markdown",
   "metadata": {},
   "source": [
    "### 6.1 Get data"
   ]
  },
  {
   "cell_type": "code",
   "execution_count": 36,
   "metadata": {},
   "outputs": [],
   "source": [
    "if (openml_source == 'titanic'):\n",
    "    print(\"Getting real data for Titanic dataset\")\n",
    "    \n",
    "    real_data = np.array([2.0,                        # pclass\n",
    "                 \"Jeremy LEVENS\",                     # name\n",
    "                 'male',                              # sex \n",
    "                 33,                                  # age\n",
    "                 0,                                   # sibsp\n",
    "                 2,                                   # parch\n",
    "                 '12345',                             # ticket\n",
    "                 200.5,                               # fare\n",
    "                 'E5',                                # cabin\n",
    "                 'C',                                 # embarked\n",
    "                 5,                                   # boat\n",
    "                 np.NaN,                              # body\n",
    "                 'Montreal, PQ / Chesterville, ON'])  # home.dest\n",
    "\n",
    "    cols = ['pclass', \n",
    "            'name', \n",
    "            'sex', \n",
    "            'age', \n",
    "            'sibsp', \n",
    "            'parch', \n",
    "            'ticket', \n",
    "            'fare', \n",
    "            'cabin', \n",
    "            'embarked', \n",
    "            'boat', \n",
    "            'body', \n",
    "            'home.dest']\n",
    "\n",
    "    X_real = pd.DataFrame(data=real_data.reshape(1, -1), columns=cols)"
   ]
  },
  {
   "cell_type": "code",
   "execution_count": 37,
   "metadata": {},
   "outputs": [
    {
     "name": "stdout",
     "output_type": "stream",
     "text": [
      "Getting real data for Diabetes dataset\n"
     ]
    }
   ],
   "source": [
    "if (openml_source == 'diabetes'):\n",
    "    print(\"Getting real data for Diabetes dataset\")\n",
    "\n",
    "    real_data = np.array([1,     # Number of times pregnant\n",
    "                         102,    # Plasma glucose concentration\n",
    "                         68,     # Diastolic blood pressure (mm Hg)\n",
    "                         47,     # Triceps skin fold thickness (mm)\n",
    "                         36,     # 2-Hour serum insulin (mu U/ml)\n",
    "                         33.83,  # Body mass index : 90kg / (1,63m x 1,63m)\n",
    "                         0.267,  # Diabetes pedigree function\n",
    "                         33      # Age (years)\n",
    "                         ])\n",
    "\n",
    "    cols = ['preg', 'plas', 'pres', 'skin', 'insu', 'mass', 'pedi', 'age']\n",
    "\n",
    "    X_real = pd.DataFrame(data=real_data.reshape(1, -1), columns=cols)"
   ]
  },
  {
   "cell_type": "code",
   "execution_count": 38,
   "metadata": {},
   "outputs": [],
   "source": [
    "if (openml_source == 'stock'):\n",
    "    print(\"Getting real data for Stock dataset\")\n",
    "    \n",
    "    real_data = np.array([48.9,\n",
    "                         34.2,\n",
    "                         13.6,\n",
    "                         42.6,\n",
    "                         48.1,\n",
    "                         17.1,\n",
    "                         64.1,\n",
    "                         25.0,\n",
    "                         48.6])\n",
    "    \n",
    "    # 56.62 expected pour company10 \n",
    "    cols = ['company1', 'company2', 'company3', 'company4', 'company5', 'company6', 'company7', 'company8', 'company9']\n",
    "    \n",
    "    X_real = pd.DataFrame(data=real_data.reshape(1, -1), columns=cols)"
   ]
  },
  {
   "cell_type": "markdown",
   "metadata": {},
   "source": [
    "### 6.2 Make prediction"
   ]
  },
  {
   "cell_type": "code",
   "execution_count": 39,
   "metadata": {},
   "outputs": [
    {
     "name": "stdout",
     "output_type": "stream",
     "text": [
      "[0]\n"
     ]
    }
   ],
   "source": [
    "y_pred_real = pipeline.predict(X_real)\n",
    "\n",
    "print(y_pred_real)"
   ]
  },
  {
   "cell_type": "code",
   "execution_count": null,
   "metadata": {},
   "outputs": [],
   "source": []
  }
 ],
 "metadata": {
  "kernelspec": {
   "display_name": "Python 3",
   "language": "python",
   "name": "python3"
  },
  "language_info": {
   "codemirror_mode": {
    "name": "ipython",
    "version": 3
   },
   "file_extension": ".py",
   "mimetype": "text/x-python",
   "name": "python",
   "nbconvert_exporter": "python",
   "pygments_lexer": "ipython3",
   "version": "3.8.0"
  }
 },
 "nbformat": 4,
 "nbformat_minor": 2
}
