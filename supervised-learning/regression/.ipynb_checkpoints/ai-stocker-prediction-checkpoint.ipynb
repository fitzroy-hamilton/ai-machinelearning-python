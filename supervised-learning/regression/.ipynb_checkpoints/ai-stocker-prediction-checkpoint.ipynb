{
 "cells": [
  {
   "cell_type": "markdown",
   "metadata": {},
   "source": [
    "# Prédiction d'une valeur d'une action"
   ]
  },
  {
   "cell_type": "markdown",
   "metadata": {},
   "source": [
    "## Installation de Quandl pour récupérer les données du marché"
   ]
  },
  {
   "cell_type": "code",
   "execution_count": 57,
   "metadata": {
    "collapsed": false
   },
   "outputs": [
    {
     "name": "stdout",
     "output_type": "stream",
     "text": [
      "\u001b[33mWARNING: You are using pip version 19.1.1, however version 19.3.1 is available.\r\n",
      "You should consider upgrading via the 'pip install --upgrade pip' command.\u001b[0m\r\n"
     ]
    }
   ],
   "source": [
    "!pip install -q quandl"
   ]
  },
  {
   "cell_type": "markdown",
   "metadata": {},
   "source": [
    "## Importation des dépendances"
   ]
  },
  {
   "cell_type": "code",
   "execution_count": 58,
   "metadata": {
    "collapsed": true
   },
   "outputs": [],
   "source": [
    "%matplotlib inline\n",
    "import quandl\n",
    "import numpy as np\n",
    "import matplotlib.pyplot as plt\n",
    "from sklearn.linear_model import LinearRegression\n",
    "from sklearn.svm import SVR\n",
    "from sklearn.model_selection import train_test_split"
   ]
  },
  {
   "cell_type": "markdown",
   "metadata": {},
   "source": [
    "## Récupération des données relatives à une action"
   ]
  },
  {
   "cell_type": "code",
   "execution_count": 59,
   "metadata": {
    "collapsed": false
   },
   "outputs": [
    {
     "name": "stdout",
     "output_type": "stream",
     "text": [
      "            Open  High   Low  Last   Volume  Turnover\n",
      "Date                                                 \n",
      "2019-12-05  22.5  22.5  22.5  22.5     41.0     923.0\n",
      "2019-12-06  22.5  22.6  22.3  22.6  13766.0  307018.0\n",
      "2019-12-09  22.4  22.4  22.2  22.2   1057.0   23513.0\n",
      "2019-12-10  22.2  22.3  22.2  22.2    596.0   13233.0\n",
      "2019-12-11  22.3  22.3  21.9  22.0   2053.0   45435.0\n"
     ]
    }
   ],
   "source": [
    "quandl.ApiConfig.api_key = \"jNQbw1iJrUvoDqHfuu9L\"\n",
    "df = quandl.get(\"EURONEXT/ALMIL\")\n",
    "# Take a look at the data\n",
    "print(df.tail())"
   ]
  },
  {
   "cell_type": "markdown",
   "metadata": {},
   "source": [
    "## Data preprocessing"
   ]
  },
  {
   "cell_type": "code",
   "execution_count": 60,
   "metadata": {
    "collapsed": false
   },
   "outputs": [
    {
     "name": "stdout",
     "output_type": "stream",
     "text": [
      "[[ 23.3]\n",
      " [ 23.3]\n",
      " [ 23. ]\n",
      " [ 22.7]\n",
      " [ 22.5]\n",
      " [ 22.5]\n",
      " [ 22.6]\n",
      " [ 22.2]\n",
      " [ 22.2]\n",
      " [ 22. ]]\n"
     ]
    }
   ],
   "source": [
    "# Get the Adjusted Close Price\n",
    "#df = df[['Adj. Close']]\n",
    "df = df[['Last']]\n",
    "# Take a look at the new data\n",
    "#print(df.head())\n",
    "\n",
    "# A variable for predicting 'n' days out into the future\n",
    "forecast_out = 10\n",
    "# Create another column (the target or dependent variable) shifted 'n' units\n",
    "#df['Prediction'] = df[['Adj. Close']].shift(-forecast_out)\n",
    "df['Prediction'] = df[['Last']].shift(-forecast_out)\n",
    "\n",
    "# Create the independent data set (X)\n",
    "# Convert the dataframe to a numpy array\n",
    "X = np.array(df.drop(['Prediction'], 1))\n",
    "# Remove the last 'n' rows\n",
    "X = X[:-forecast_out]\n",
    "\n",
    "# Create the dependent data set (y)\n",
    "# Convert the dataframe to a numpy array (all of the values including the NaN's)\n",
    "y = np.array(df['Prediction'])\n",
    "# Get all of the y values except the last 'n' rows\n",
    "y = y[:-forecast_out]\n",
    "\n",
    "# Split the data into 80% training and 20% testing\n",
    "x_train, x_test, y_train, y_test = train_test_split(X, y, test_size=0.2)\n",
    "\n",
    "# Set x_forecast equal to the last 'forecast_out' rows of the original data set from Adj. Close column\n",
    "x_forecast = np.array(df.drop(['Prediction'], 1))[-forecast_out:]\n",
    "print(x_forecast)"
   ]
  },
  {
   "cell_type": "markdown",
   "metadata": {},
   "source": [
    "## Création et entrainement du modèle avec une Support Vector Machine (Regressor)"
   ]
  },
  {
   "cell_type": "code",
   "execution_count": 61,
   "metadata": {
    "collapsed": false
   },
   "outputs": [
    {
     "name": "stdout",
     "output_type": "stream",
     "text": [
      "SVM confidence (based on the test dataset): 95.18%\n",
      "[ 23.59079734  23.59079734  23.25586797  22.89974135  22.66481168\n",
      "  22.66481168  22.78116188  22.34410963  22.34410963  22.16968389]\n"
     ]
    }
   ],
   "source": [
    "svr_rbf = SVR(kernel='rbf', C=1e3, gamma=0.1)\n",
    "svr_rbf.fit(x_train, y_train)\n",
    "\n",
    "# Testing Model: Score returns the coefficient of determination R^2 of the prediction\n",
    "# The best possible score is 1.0\n",
    "svm_confidence = svr_rbf.score(x_test, y_test)\n",
    "print(\"SVM confidence (based on the test dataset):\", \"%.2f%%\" % (svm_confidence * 100))\n",
    "\n",
    "# Print support vector regressor  model the predictions for the next 'n' days\n",
    "y_pred = svr_rbf.predict(x_test)\n",
    "svm_prediction = svr_rbf.predict(x_forecast)\n",
    "print(svm_prediction)"
   ]
  },
  {
   "cell_type": "markdown",
   "metadata": {},
   "source": [
    "## Création et entrainement du modèle avec une Linear Regression"
   ]
  },
  {
   "cell_type": "code",
   "execution_count": 62,
   "metadata": {
    "collapsed": false
   },
   "outputs": [
    {
     "name": "stdout",
     "output_type": "stream",
     "text": [
      "LR confidence (based on the test dataset): 94.94%\n",
      "[ 23.42341053  23.42341053  23.13062132  22.83783211  22.64263931\n",
      "  22.64263931  22.74023571  22.3498501   22.3498501   22.15465729]\n"
     ]
    }
   ],
   "source": [
    "lr = LinearRegression()\n",
    "lr.fit(x_train, y_train)\n",
    "\n",
    "# Testing Model: Score returns the coefficient of determination R^2 of the prediction\n",
    "# The best possible score is 1.0\n",
    "lr_confidence = lr.score(x_test, y_test)\n",
    "print(\"LR confidence (based on the test dataset):\", \"%.2f%%\" % (lr_confidence * 100))\n",
    "\n",
    "# Print linear regression model the predictions for the next 'n' days\n",
    "lr_prediction = lr.predict(x_forecast)\n",
    "print(lr_prediction)"
   ]
  }
 ],
 "metadata": {
  "celltoolbar": "Raw Cell Format",
  "kernelspec": {
   "display_name": "Python 3",
   "language": "python",
   "name": "python3"
  },
  "language_info": {
   "codemirror_mode": {
    "name": "ipython",
    "version": 3
   },
   "file_extension": ".py",
   "mimetype": "text/x-python",
   "name": "python",
   "nbconvert_exporter": "python",
   "pygments_lexer": "ipython3",
   "version": "3.6.0"
  }
 },
 "nbformat": 4,
 "nbformat_minor": 2
}
